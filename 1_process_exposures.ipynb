{
 "cells": [
  {
   "cell_type": "markdown",
   "metadata": {},
   "source": [
    "# To do"
   ]
  },
  {
   "cell_type": "markdown",
   "metadata": {},
   "source": [
    "1. fix the problem leading to the warning \"Some of the fieldIDs were not not found in self._UID_to_descrpt dictionary. Therefore their categories are not included in self.categories\" \n",
    "2. use pyspark instead to speed up"
   ]
  },
  {
   "cell_type": "markdown",
   "metadata": {},
   "source": [
    "# Functions\n",
    "1. find_num_years_disease(newdf,FID,FID_corr,patientID)    \n",
    "for index specified by patientID, Field ID specified by FID, field ID corresponding to the time event occured and a given patientID specifying the row, it will calculate the difference between event time and age at recruitment from the field ID 21022-0.0\n",
    "2. tidy_coded_fieldID(bs_html_file,coding,prefix,FID,df)\n",
    "if a datafield is coded, it will take the beautiful soup object pertaining to the html file (bs_html_file) and the coding of the field ID, e.g. \"Coding 1001\", and create a tidy table with the column names set to prefix+FID value. df is the df where the FID exists.\n",
    "\n",
    "# Dictionaries\n",
    "1. categories: a list of dictionaries in translating categories to fieldIDs in each category\n",
    "2. fieldID_to_ctgry_dict: reverse of above\n",
    "3. UID_to_dscrpt: field ID to description and other useful information\n",
    "4. disease_code_to_disease_dict: disease codes Data coding 6 to disease name for self reported diseases"
   ]
  },
  {
   "cell_type": "code",
   "execution_count": 1,
   "metadata": {},
   "outputs": [],
   "source": [
    "from IPython.display import display, HTML\n",
    "import pandas as pd\n",
    "from lxml import etree\n",
    "import time\n",
    "import re\n",
    "import matplotlib.pyplot as plt\n",
    "import random\n",
    "import codecs\n",
    "import numpy as np\n",
    "import pickle\n",
    "from UKBB import UKBDicts,preprocess,tidy_coded_fieldID\n",
    "\n",
    "\n",
    "\n",
    "\n",
    "from bs4 import BeautifulSoup\n",
    "import requests\n",
    "from lxml import etree\n",
    "import pandas as pd\n",
    "import unicodedata"
   ]
  },
  {
   "cell_type": "code",
   "execution_count": 4,
   "metadata": {},
   "outputs": [
    {
     "name": "stdout",
     "output_type": "stream",
     "text": [
      "[NbConvertApp] Converting notebook UKBB.ipynb to script\n",
      "[NbConvertApp] Writing 12041 bytes to UKBB.py\n"
     ]
    }
   ],
   "source": [
    "#!jupyter nbconvert --to script 'UKBB.ipynb'\n",
    "#%run helper_functions.py"
   ]
  },
  {
   "cell_type": "markdown",
   "metadata": {},
   "source": [
    "# Read the field ID summary html file"
   ]
  },
  {
   "cell_type": "code",
   "execution_count": 2,
   "metadata": {},
   "outputs": [
    {
     "name": "stdout",
     "output_type": "stream",
     "text": [
      "Loaded a dictionary with 8226 field ID:category entries\n",
      "Parsed 1827 unique field IDs from the UKBiobank html file\n",
      "Time elapsed for extracting unique field IDs: 7.471305480226874\n"
     ]
    },
    {
     "name": "stderr",
     "output_type": "stream",
     "text": [
      "/home/mo/Env_vars_DL/UKBB.py:180: UserWarning: Some of the fieldIDs were not not found in self._UID_to_descrpt dictionary. Therefore their categories are not included in self.categories. See self.fieldID_no_category             for a list of these\n",
      "  warnings.warn(\"Some of the fieldIDs were not not found in self._UID_to_descrpt dictionary. Therefore their categories are not included in self.categories. See self.fieldID_no_category             for a list of these\")\n"
     ]
    }
   ],
   "source": [
    "#PATH_data=r\"/home/workspace/datasets/ukbiobank/ukbiobank_yajiez/dataset/ukb26438.csv\"\n",
    "#PATH_dict=r\"/home/workspace/datasets/ukbiobank/ukbiobank_yajiez/dataset/ukb26438.html\"\n",
    "\n",
    "PATH_data=r\"/home/workspace/datasets/ukbiobank/biobank_milad_34943/ukb34943.csv\"\n",
    "PATH_dict=r\"/home/mo/ukb34943.html\"\n",
    "\n",
    "ukb=UKBDicts(PATH_data,PATH_dict,\"file\")\n",
    "\n",
    "categories,UID_to_dscrpt,fieldID_to_ctgry_dict=ukb.categories,ukb._UID_to_dscrpt,ukb._fieldID_to_ctgry_dict"
   ]
  },
  {
   "cell_type": "code",
   "execution_count": 30,
   "metadata": {},
   "outputs": [],
   "source": [
    "#delete ASAP\n",
    "\n",
    "bs = BeautifulSoup(open(PATH_dict).read(), 'html.parser')\n",
    "#df_tidy=tidy_coded_fieldID(bs,\"Coding 1001\",\"Ethnicity_\",\"21000\",df_temp)\n",
    "\n",
    "table = bs.find(lambda tag: tag.name=='table' and tag.has_attr('summary') and tag['summary']==\"Coding 4\")\n",
    "    \n",
    "pd_coding=pd.read_html(str(table))\n",
    "\n",
    "\n",
    "#pd.read_csv(r'tidy_data_tiles/summary_diagnoses.csv',nrows=1).to_csv(\"/home/shared/coding6.csv\")"
   ]
  },
  {
   "cell_type": "code",
   "execution_count": 28,
   "metadata": {},
   "outputs": [
    {
     "data": {
      "text/plain": [
       "[   #   Code                    Meaning   Unnamed: 3\n",
       " 0  1  20003  Treatment/medication code  Medications]"
      ]
     },
     "execution_count": 28,
     "metadata": {},
     "output_type": "execute_result"
    }
   ],
   "source": [
    "pd_coding[0]"
   ]
  },
  {
   "cell_type": "markdown",
   "metadata": {},
   "source": [
    "# 2. Read data as pd for correctness check"
   ]
  },
  {
   "cell_type": "markdown",
   "metadata": {},
   "source": [
    "## 2.1 read datafields by categories in numpy"
   ]
  },
  {
   "cell_type": "code",
   "execution_count": 10,
   "metadata": {},
   "outputs": [],
   "source": [
    "my_cols=[col for col in column_names if (\"41270\" in col) | (\"41280\" in col)]"
   ]
  },
  {
   "cell_type": "code",
   "execution_count": 13,
   "metadata": {},
   "outputs": [
    {
     "name": "stdout",
     "output_type": "stream",
     "text": [
      "Time to read the data: 543.3999435610604\n"
     ]
    }
   ],
   "source": [
    "tic = time.perf_counter()\n",
    "column_names = pd.read_csv(PATH_data, dtype='unicode',nrows=1).columns\n",
    "df = pd.read_csv(PATH_data,dtype='unicode',engine='python',usecols=my_cols)\n",
    "toc = time.perf_counter()\n",
    "print('Time to read the data: '+str(toc-tic))"
   ]
  },
  {
   "cell_type": "code",
   "execution_count": 14,
   "metadata": {},
   "outputs": [
    {
     "data": {
      "text/plain": [
       "(502527, 426)"
      ]
     },
     "execution_count": 14,
     "metadata": {},
     "output_type": "execute_result"
    }
   ],
   "source": [
    "df.shape"
   ]
  },
  {
   "cell_type": "code",
   "execution_count": 16,
   "metadata": {},
   "outputs": [],
   "source": [
    "df.to_csv(r'/home/shared/mo/UKBData/diagnosesraw.csv')"
   ]
  },
  {
   "cell_type": "markdown",
   "metadata": {},
   "source": [
    "# 2.2 Read Demographics (baseline characteristics) and socioeconomics and  store "
   ]
  },
  {
   "cell_type": "markdown",
   "metadata": {},
   "source": [
    "## 2.2.1 Read Socio Demographics"
   ]
  },
  {
   "cell_type": "code",
   "execution_count": 122,
   "metadata": {},
   "outputs": [
    {
     "name": "stdout",
     "output_type": "stream",
     "text": [
      "From the category Baseline characteristics the following where selected: \n",
      " \t {'34', '21022', '189', '52', '31'}\n",
      "\t FID 34:  Year of birth\n",
      "\t FID 21022:  Age at recruitment\n",
      "\t FID 189:  Townsend deprivation index at recruitment\n",
      "\t FID 52:  Month of birthUses data-coding 8\n",
      "\t FID 31:  SexUses data-coding 9\n"
     ]
    }
   ],
   "source": [
    "selected_categories={'Baseline characteristics':['include','31','34','52','189','21022']}\n",
    "process_config={'31':{'type':'int'},'34':{'type':'string'},'52':{'type':'string'},'189':{'type':'float'},'21022':{'type':'int'}}\n",
    "\n",
    "newdf=preprocess(selected_categories,ukb.categories,ukb._UID_to_dscrpt,df,process_config)\n",
    "\n",
    "\"\"\"#Next grab 20002 (self-reported non-cancer) and 20009 (age of self-reported non-cancer) \n",
    "and seperate illnesses based on the time of occurance to and time window\"\"\"\n",
    "\n",
    "newdf['birth_date']=pd.to_datetime(newdf['34-0.0']+newdf['52-0.0'],format='%Y%m')\n",
    "newdf.drop(columns=['34-0.0','52-0.0'],inplace=True)"
   ]
  },
  {
   "cell_type": "code",
   "execution_count": 123,
   "metadata": {},
   "outputs": [],
   "source": [
    "selected_categories_tidy={'demographics and socioeconomics':['gender',\n",
    "                                                      'birth_date',\n",
    "                                                      'Townsend deprivation index at recruitment',\n",
    "                                                      'Age at recruitment']}\n",
    "selected_categories_tidy_columns={'gender':{\"col_name\":['31-0.0'],\"type\":\"binary\"},\n",
    "                                  'birth_date':{\"col_name\":['birth_date'],\"type\":\"date\"},\n",
    "                                  'Townsend deprivation index at recruitment':{\"col_name\":['189-0.0'],\"type\":\"float\"},\n",
    "                                  'Age at recruitment':{\"col_name\":['21022-0.0'],\"type\":\"int\"}}\n",
    "selected_categories_exclusions=[]"
   ]
  },
  {
   "cell_type": "markdown",
   "metadata": {},
   "source": [
    "## 2.2.2 Read Ethinicity and add "
   ]
  },
  {
   "cell_type": "code",
   "execution_count": 124,
   "metadata": {},
   "outputs": [
    {
     "name": "stdout",
     "output_type": "stream",
     "text": [
      "From the category Ethnicity the following where selected: \n",
      " \t {'21000'}\n",
      "\t FID 21000:  Ethnic backgroundUses data-coding 1001\n",
      "Ethnicity_African                         3394\n",
      "Ethnicity_Any other Asian background      1815\n",
      "Ethnicity_Any other Black background       123\n",
      "Ethnicity_Any other mixed background      1033\n",
      "Ethnicity_Any other white background     16334\n",
      "Ethnicity_Asian or Asian British            43\n",
      "Ethnicity_Bangladeshi                      236\n",
      "Ethnicity_Black or Black British            27\n",
      "Ethnicity_British                       442604\n",
      "Ethnicity_Caribbean                       4517\n",
      "Ethnicity_Chinese                         1574\n",
      "Ethnicity_Do not know                      217\n",
      "Ethnicity_Indian                          5951\n",
      "Ethnicity_Irish                          13209\n",
      "Ethnicity_Mixed                             49\n",
      "Ethnicity_Other ethnic group              4558\n",
      "Ethnicity_Pakistani                       1837\n",
      "Ethnicity_Prefer not to answer            1662\n",
      "Ethnicity_White                            570\n",
      "Ethnicity_White and Asian                  831\n",
      "Ethnicity_White and Black African          425\n",
      "Ethnicity_White and Black Caribbean        620\n",
      "dtype: int64\n"
     ]
    }
   ],
   "source": [
    "selected_categories={'Ethnicity':['include','21000']}\n",
    "process_config={'21000':{'type':'string'}}\n",
    "\n",
    "df_temp=preprocess(selected_categories,ukb.categories,ukb._UID_to_dscrpt,df,process_config)\n",
    "\n",
    "df_temp=df_temp[['21000-0.0']]\n",
    "\n",
    "bs = BeautifulSoup(open(PATH_dict).read(), 'html.parser')\n",
    "df_tidy=tidy_coded_fieldID(bs,\"Coding 1001\",\"Ethnicity_\",\"21000\",df_temp)\n",
    "\n",
    "newdf=pd.concat([newdf,df_tidy],axis=1)\n",
    "\n",
    "selected_categories_tidy['demographics and socioeconomics'].append(\"Ethnicity\")\n",
    "selected_categories_tidy_columns['Ethnicity']={\"col_name\":list(df_tidy.columns.values),\"type\":\"binary\"}"
   ]
  },
  {
   "cell_type": "markdown",
   "metadata": {},
   "source": [
    "## 2.2.3 Read and add socioeconomics\n",
    "1. household income before tax, \n",
    "2. current employment status,\n",
    "3. Townsend deprivation index (done in baseline) at recruitment, \n",
    "4. education qualifications "
   ]
  },
  {
   "cell_type": "code",
   "execution_count": 204,
   "metadata": {},
   "outputs": [
    {
     "name": "stdout",
     "output_type": "stream",
     "text": [
      "Field ID: 709 _ Number in householdUses data-coding 100291\n",
      "\n",
      "Field ID: 728 _ Number of vehicles in householdUses data-coding 100293\n",
      "\n",
      "Field ID: 738 _ Average total household income before taxUses data-coding 100294\n",
      "\n",
      "Field ID: 1259 _ Smoking/smokers in householdUses data-coding 100370\n",
      "\n",
      "Field ID: 6141 _ How are people in household related to participantUses data-coding 100292\n",
      "\n",
      "Field ID: 10877 _ Average total household income before tax (pilot)Uses data-coding 100657\n",
      "\n",
      "['Average total household income before tax', 'Household']\n"
     ]
    },
    {
     "data": {
      "text/plain": [
       "['670: Type of accommodation lived inUses data-coding 100286',\n",
       " '680: Own or rent accommodation lived inUses data-coding 100287',\n",
       " '699: Length of time at current addressUses data-coding 100290',\n",
       " '709: Number in householdUses data-coding 100291',\n",
       " '728: Number of vehicles in householdUses data-coding 100293',\n",
       " '738: Average total household income before taxUses data-coding 100294',\n",
       " '6139: Gas or solid-fuel cooking/heatingUses data-coding 100288',\n",
       " '6140: Heating type(s) in homeUses data-coding 100289',\n",
       " '6141: How are people in household related to participantUses data-coding 100292',\n",
       " '10860: Gas or solid-fuel cooking/heating (pilot)Uses data-coding 100656',\n",
       " '10877: Average total household income before tax (pilot)Uses data-coding 100657']"
      ]
     },
     "execution_count": 204,
     "metadata": {},
     "output_type": "execute_result"
    }
   ],
   "source": [
    "word='household'\n",
    "ukb.search_description(word)\n",
    "print(ukb._fieldID_to_ctgry_dict['738'])\n",
    "ukb.categories['Household']"
   ]
  },
  {
   "cell_type": "code",
   "execution_count": 126,
   "metadata": {},
   "outputs": [
    {
     "name": "stdout",
     "output_type": "stream",
     "text": [
      "From the category Employment the following where selected: \n",
      " \t {'6142'}\n",
      "\t FID 6142:  Current employment statusUses data-coding 100295\n",
      "Employment_Doing unpaid or voluntary work                        2328\n",
      "Employment_Full or part-time student                             1343\n",
      "Employment_In paid employment or self-employed                 287163\n",
      "Employment_Looking after home and/or family                     13859\n",
      "Employment_None of the above                                     2801\n",
      "Employment_Prefer not to answer                                  2082\n",
      "Employment_Retired                                             166984\n",
      "Employment_Unable to work because of sickness or disability     16833\n",
      "Employment_Unemployed                                            8264\n",
      "dtype: int64\n"
     ]
    }
   ],
   "source": [
    "FID='6142'\n",
    "data_coding='100295'\n",
    "FID_tidy_name=\"Current employment status\"\n",
    "selected_categories={ukb._fieldID_to_ctgry_dict[FID][1]:['include',FID]}\n",
    "process_config={FID:{'type':'string'}}\n",
    "\n",
    "df_temp=preprocess(selected_categories,ukb.categories,ukb._UID_to_dscrpt,df,process_config)\n",
    "\n",
    "df_temp=df_temp[[FID+'-0.0']]\n",
    "\n",
    "df_tidy=tidy_coded_fieldID(bs,\"Coding \"+data_coding,\"Employment_\",FID,df_temp)\n",
    "\n",
    "newdf=pd.concat([newdf,df_tidy],axis=1)\n",
    "\n",
    "selected_categories_tidy['demographics and socioeconomics'].append(FID_tidy_name)\n",
    "selected_categories_tidy_columns[FID_tidy_name]={\"col_name\":list(df_tidy.columns.values),\"type\":\"binary\"}"
   ]
  },
  {
   "cell_type": "code",
   "execution_count": 127,
   "metadata": {},
   "outputs": [
    {
     "name": "stdout",
     "output_type": "stream",
     "text": [
      "From the category Household the following where selected: \n",
      " \t {'738'}\n",
      "\t FID 738:  Average total household income before taxUses data-coding 100294\n",
      "Household_inc_18,000 to 30,999        108178\n",
      "Household_inc_31,000 to 51,999        110775\n",
      "Household_inc_52,000 to 100,000        86269\n",
      "Household_inc_Do not know              21305\n",
      "Household_inc_Greater than 100,000     22932\n",
      "Household_inc_Less than 18,000         97207\n",
      "Household_inc_Prefer not to answer     49848\n",
      "dtype: int64\n"
     ]
    }
   ],
   "source": [
    "selected_categories={'Household':['include','738']}\n",
    "process_config={'738':{'type':'string'}}\n",
    "\n",
    "df_temp=preprocess(selected_categories,ukb.categories,ukb._UID_to_dscrpt,df,process_config)\n",
    "\n",
    "df_temp=df_temp[['738-0.0']]\n",
    "\n",
    "df_tidy=tidy_coded_fieldID(bs,\"Coding 100294\",\"Household_inc_\",\"738\",df_temp)\n",
    "\n",
    "newdf=pd.concat([newdf,df_tidy],axis=1)\n",
    "\n",
    "selected_categories_tidy['demographics and socioeconomics'].append(\"Household Income\")\n",
    "selected_categories_tidy_columns['Household Income']={\"col_name\":list(df_tidy.columns.values),\"type\":\"binary\"}"
   ]
  },
  {
   "cell_type": "code",
   "execution_count": 128,
   "metadata": {},
   "outputs": [
    {
     "name": "stdout",
     "output_type": "stream",
     "text": [
      "From the category Education the following where selected: \n",
      " \t {'6138'}\n",
      "\t FID 6138:  QualificationsUses data-coding 100305\n",
      "Qualifications_A levels/AS levels or equivalent                            55325\n",
      "Qualifications_CSEs or equivalent                                          26887\n",
      "Qualifications_College or University degree                               161171\n",
      "Qualifications_NVQ or HND or HNC or equivalent                             32730\n",
      "Qualifications_None of the above                                           85275\n",
      "Qualifications_O levels/GCSEs or equivalent                               105200\n",
      "Qualifications_Other professional qualifications eg: nursing, teaching     25805\n",
      "Qualifications_Prefer not to answer                                         5493\n",
      "dtype: int64\n"
     ]
    }
   ],
   "source": [
    "FID='6138'\n",
    "data_coding='100305'\n",
    "FID_tidy_name=\"Qualifications\"\n",
    "selected_categories={ukb._fieldID_to_ctgry_dict[FID][1]:['include',FID]}\n",
    "process_config={FID:{'type':'string'}}\n",
    "\n",
    "df_temp=preprocess(selected_categories,ukb.categories,ukb._UID_to_dscrpt,df,process_config)\n",
    "\n",
    "df_temp=df_temp[[FID+'-0.0']]\n",
    "\n",
    "df_tidy=tidy_coded_fieldID(bs,\"Coding \"+data_coding,\"Qualifications_\",FID,df_temp)\n",
    "\n",
    "newdf=pd.concat([newdf,df_tidy],axis=1)\n",
    "\n",
    "selected_categories_tidy['demographics and socioeconomics'].append(FID_tidy_name)\n",
    "selected_categories_tidy_columns[FID_tidy_name]={\"col_name\":list(df_tidy.columns.values),\"type\":\"binary\"}"
   ]
  },
  {
   "cell_type": "code",
   "execution_count": 129,
   "metadata": {},
   "outputs": [],
   "source": [
    "newdf.to_csv(r'tidy_data_tiles/sociodem_socioeco.csv')\n",
    "newdf=pd.DataFrame()"
   ]
  },
  {
   "cell_type": "markdown",
   "metadata": {},
   "source": [
    "# 2.3 Anthropometrics and cardiac risk factors\n",
    "1. Standing Height, \n",
    "2. BMI,\n",
    "3. SBP, DBP, PR \n",
    "4. Drinking, and Smoking status"
   ]
  },
  {
   "cell_type": "code",
   "execution_count": 130,
   "metadata": {},
   "outputs": [
    {
     "name": "stdout",
     "output_type": "stream",
     "text": [
      "From the category Body size measures the following where selected: \n",
      " \t {'50'}\n",
      "\t FID 50:  Standing height\n",
      "       50-0.0 50-1.0 50-2.0\n",
      "0         154   <NA>   <NA>\n",
      "1         174    172    173\n",
      "2         166   <NA>    166\n",
      "3         179   <NA>   <NA>\n",
      "4         168   <NA>   <NA>\n",
      "...       ...    ...    ...\n",
      "502522    177   <NA>   <NA>\n",
      "502523    161   <NA>   <NA>\n",
      "502524    178   <NA>   <NA>\n",
      "502525    175   <NA>   <NA>\n",
      "502526    166   <NA>   <NA>\n",
      "\n",
      "[502527 rows x 3 columns]\n"
     ]
    }
   ],
   "source": [
    "FID='50'\n",
    "#data_coding='100261'\n",
    "FID_tidy_name=\"Standing height\"\n",
    "selected_categories={fieldID_to_ctgry_dict[FID][1]:['include',FID]}\n",
    "process_config={FID:{'type':'string'}}\n",
    "\n",
    "df_temp=preprocess(selected_categories,categories,UID_to_dscrpt,df,process_config)\n",
    "\n",
    "print(df_temp)\n",
    "df_temp=df_temp[[FID+'-0.0']]\n",
    "\n",
    "#df_tidy=tidy_coded_fieldID(bs,\"Coding \"+data_coding,FID_tidy_name+\"_\",FID,df_temp)\n",
    "\n",
    "newdf=pd.concat([newdf,df_temp],axis=1)\n",
    "df_tidy=df_temp\n",
    "\n",
    "selected_categories_tidy[fieldID_to_ctgry_dict[FID][1]]=[FID_tidy_name]\n",
    "selected_categories_tidy_columns[FID_tidy_name]={\"col_name\":list(df_tidy.columns.values),\"type\":\"int\"}"
   ]
  },
  {
   "cell_type": "code",
   "execution_count": 131,
   "metadata": {},
   "outputs": [
    {
     "name": "stdout",
     "output_type": "stream",
     "text": [
      "From the category Body size measures the following where selected: \n",
      " \t {'21001'}\n",
      "\t FID 21001:  Body mass index (BMI)\n",
      "       21001-0.0 21001-1.0 21001-2.0\n",
      "0        29.9798      <NA>      <NA>\n",
      "1        24.4088   23.5938   22.5868\n",
      "2        29.3584      <NA>   37.5236\n",
      "3         30.617      <NA>      <NA>\n",
      "4        31.3209      <NA>      <NA>\n",
      "...          ...       ...       ...\n",
      "502522   26.5888      <NA>      <NA>\n",
      "502523   21.1797      <NA>      <NA>\n",
      "502524   34.3707      <NA>      <NA>\n",
      "502525   31.6082      <NA>      <NA>\n",
      "502526   27.4713      <NA>      <NA>\n",
      "\n",
      "[502527 rows x 3 columns]\n"
     ]
    }
   ],
   "source": [
    "FID='21001'\n",
    "#data_coding='100261'\n",
    "FID_tidy_name=\"BMI\"\n",
    "selected_categories={fieldID_to_ctgry_dict[FID][1]:['include',FID]}\n",
    "process_config={FID:{'type':'string'}}\n",
    "\n",
    "df_temp=preprocess(selected_categories,categories,UID_to_dscrpt,df,process_config)\n",
    "\n",
    "print(df_temp)\n",
    "df_temp=df_temp[[FID+'-0.0']]\n",
    "\n",
    "#df_tidy=tidy_coded_fieldID(bs,\"Coding \"+data_coding,FID_tidy_name+\"_\",FID,df_temp)\n",
    "\n",
    "newdf=pd.concat([newdf,df_temp],axis=1)\n",
    "df_tidy=df_temp\n",
    "\n",
    "selected_categories_tidy[fieldID_to_ctgry_dict[FID][1]].append(FID_tidy_name)\n",
    "selected_categories_tidy_columns[FID_tidy_name]={\"col_name\":list(df_tidy.columns.values),\"type\":\"float\"}"
   ]
  },
  {
   "cell_type": "code",
   "execution_count": 132,
   "metadata": {},
   "outputs": [
    {
     "name": "stdout",
     "output_type": "stream",
     "text": [
      "From the category Blood pressure the following where selected: \n",
      " \t {'4080'}\n",
      "\t FID 4080:  Systolic blood pressure, automated reading\n",
      "the percentage of na\n",
      "4080-0.0    0.068542\n",
      "4080-0.1    0.082023\n",
      "dtype: float64\n"
     ]
    }
   ],
   "source": [
    "FID='4080'\n",
    "#data_coding='100261'\n",
    "FID_tidy_name=\"SBP\"\n",
    "selected_categories={fieldID_to_ctgry_dict[FID][1]:['include',FID]}\n",
    "process_config={FID:{'type':'string'}}\n",
    "\n",
    "df_temp=preprocess(selected_categories,categories,UID_to_dscrpt,df,process_config)\n",
    "\n",
    "df_temp=df_temp[[FID+'-0.0',FID+'-0.1']]\n",
    "\n",
    "print('the percentage of na')\n",
    "print(df_temp.isna().sum()/df_temp.shape[0])\n",
    "\n",
    "\n",
    "df_temp[FID+'-0.0']= pd.to_numeric(df_temp[FID+'-0.0'], errors='coerce',downcast=\"float\")\n",
    "df_temp[FID+'-0.1']= pd.to_numeric(df_temp[FID+'-0.1'], errors='coerce',downcast=\"float\")\n",
    "\n",
    "#df_temp.fillna(df_temp.mean(),inplace=True)\n",
    "\n",
    "df_temp['SBP_avg']=df_temp.mean(axis=1)\n",
    "df_temp.drop(columns=[FID+'-0.0',FID+'-0.1'],inplace=True)\n",
    "\n",
    "df_temp=df_temp.round(0)\n",
    "\n",
    "df_temp\n",
    "#df_tidy=tidy_coded_fieldID(bs,\"Coding \"+data_coding,FID_tidy_name+\"_\",FID,df_temp)\n",
    "\n",
    "newdf=pd.concat([newdf,df_temp],axis=1)\n",
    "df_tidy=df_temp\n",
    "\n",
    "selected_categories_tidy[fieldID_to_ctgry_dict[FID][1]]=[FID_tidy_name]\n",
    "selected_categories_tidy_columns[FID_tidy_name]={\"col_name\":list(df_tidy.columns.values),\"type\":\"int\"}"
   ]
  },
  {
   "cell_type": "code",
   "execution_count": 133,
   "metadata": {},
   "outputs": [
    {
     "name": "stdout",
     "output_type": "stream",
     "text": [
      "From the category Blood pressure the following where selected: \n",
      " \t {'4079'}\n",
      "\t FID 4079:  Diastolic blood pressure, automated reading\n",
      "the percentage of na\n",
      "4079-0.0    0.068516\n",
      "4079-0.1    0.082015\n",
      "dtype: float64\n"
     ]
    }
   ],
   "source": [
    "FID='4079'\n",
    "#data_coding='100261'\n",
    "FID_tidy_name=\"DBP\"\n",
    "selected_categories={fieldID_to_ctgry_dict[FID][1]:['include',FID]}\n",
    "process_config={FID:{'type':'string'}}\n",
    "\n",
    "df_temp=preprocess(selected_categories,categories,UID_to_dscrpt,df,process_config)\n",
    "\n",
    "\n",
    "df_temp=df_temp[[FID+'-0.0',FID+'-0.1']]\n",
    "\n",
    "print('the percentage of na')\n",
    "print(df_temp.isna().sum()/df_temp.shape[0])\n",
    "\n",
    "\n",
    "df_temp[FID+'-0.0']= pd.to_numeric(df_temp[FID+'-0.0'], errors='coerce',downcast=\"float\")\n",
    "df_temp[FID+'-0.1']= pd.to_numeric(df_temp[FID+'-0.1'], errors='coerce',downcast=\"float\")\n",
    "\n",
    "#df_temp.fillna(df_temp.mean(),inplace=True)\n",
    "\n",
    "df_temp['DBP_avg']=df_temp.mean(axis=1)\n",
    "df_temp.drop(columns=[FID+'-0.0',FID+'-0.1'],inplace=True)\n",
    "\n",
    "df_temp=df_temp.round(0)\n",
    "\n",
    "df_temp\n",
    "#df_tidy=tidy_coded_fieldID(bs,\"Coding \"+data_coding,FID_tidy_name+\"_\",FID,df_temp)\n",
    "\n",
    "newdf=pd.concat([newdf,df_temp],axis=1)\n",
    "df_tidy=df_temp\n",
    "\n",
    "selected_categories_tidy[fieldID_to_ctgry_dict[FID][1]].append(FID_tidy_name)\n",
    "selected_categories_tidy_columns[FID_tidy_name]={\"col_name\":list(df_tidy.columns.values),\"type\":\"int\"}"
   ]
  },
  {
   "cell_type": "code",
   "execution_count": 134,
   "metadata": {},
   "outputs": [
    {
     "name": "stdout",
     "output_type": "stream",
     "text": [
      "From the category Blood pressure the following where selected: \n",
      " \t {'102'}\n",
      "\t FID 102:  Pulse rate, automated reading\n",
      "       102-0.0 102-0.1 102-1.0 102-1.1 102-2.0 102-2.1\n",
      "0           83      82    <NA>    <NA>    <NA>    <NA>\n",
      "1           67      64      53      55    <NA>    <NA>\n",
      "2           57      60    <NA>    <NA>    <NA>    <NA>\n",
      "3           57      56    <NA>    <NA>    <NA>    <NA>\n",
      "4         <NA>    <NA>    <NA>    <NA>    <NA>    <NA>\n",
      "...        ...     ...     ...     ...     ...     ...\n",
      "502522      84      68    <NA>    <NA>    <NA>    <NA>\n",
      "502523      57      59    <NA>    <NA>    <NA>    <NA>\n",
      "502524      62      63    <NA>    <NA>    <NA>    <NA>\n",
      "502525      75      74    <NA>    <NA>    <NA>    <NA>\n",
      "502526      80      84    <NA>    <NA>    <NA>    <NA>\n",
      "\n",
      "[502527 rows x 6 columns]\n",
      "the percentage of na\n",
      "102-0.0    0.068516\n",
      "102-0.1    0.082015\n",
      "dtype: float64\n"
     ]
    }
   ],
   "source": [
    "FID='102'\n",
    "#data_coding='100261'\n",
    "FID_tidy_name=\"PR\"\n",
    "selected_categories={fieldID_to_ctgry_dict[FID][1]:['include',FID]}\n",
    "process_config={FID:{'type':'string'}}\n",
    "\n",
    "df_temp=preprocess(selected_categories,categories,UID_to_dscrpt,df,process_config)\n",
    "\n",
    "print(df_temp)\n",
    "df_temp=df_temp[[FID+'-0.0',FID+'-0.1']]\n",
    "\n",
    "print('the percentage of na')\n",
    "print(df_temp.isna().sum()/df_temp.shape[0])\n",
    "\n",
    "\n",
    "df_temp[FID+'-0.0']= pd.to_numeric(df_temp[FID+'-0.0'], errors='coerce',downcast=\"float\")\n",
    "df_temp[FID+'-0.1']= pd.to_numeric(df_temp[FID+'-0.1'], errors='coerce',downcast=\"float\")\n",
    "\n",
    "#df_temp.fillna(df_temp.mean(),inplace=True)\n",
    "\n",
    "df_temp['PR_avg']=df_temp.mean(axis=1)\n",
    "df_temp.drop(columns=[FID+'-0.0',FID+'-0.1'],inplace=True)\n",
    "\n",
    "df_temp=df_temp.round(0)\n",
    "\n",
    "df_temp\n",
    "#df_tidy=tidy_coded_fieldID(bs,\"Coding \"+data_coding,FID_tidy_name+\"_\",FID,df_temp)\n",
    "\n",
    "newdf=pd.concat([newdf,df_temp],axis=1)\n",
    "df_tidy=df_temp\n",
    "\n",
    "selected_categories_tidy[fieldID_to_ctgry_dict[FID][1]].append(FID_tidy_name)\n",
    "selected_categories_tidy_columns[FID_tidy_name]={\"col_name\":list(df_tidy.columns.values),\"type\":\"int\"}"
   ]
  },
  {
   "cell_type": "code",
   "execution_count": 135,
   "metadata": {},
   "outputs": [
    {
     "name": "stdout",
     "output_type": "stream",
     "text": [
      "From the category Blood biochemistry the following where selected: \n",
      " \t {'30690'}\n",
      "\t FID 30690:  Cholesterol\n",
      "From the category Blood biochemistry the following where selected: \n",
      " \t {'30760'}\n",
      "\t FID 30760:  HDL cholesterol\n",
      "       30690-0.0 30690-1.0\n",
      "0          5.847      <NA>\n",
      "1          5.652     6.145\n",
      "2          5.977      <NA>\n",
      "3          7.548      <NA>\n",
      "4           5.17      <NA>\n",
      "...          ...       ...\n",
      "502522     5.059      <NA>\n",
      "502523     5.867      <NA>\n",
      "502524     5.667      <NA>\n",
      "502525     6.642      <NA>\n",
      "502526     3.946      <NA>\n",
      "\n",
      "[502527 rows x 2 columns]\n",
      "the percentage of na\n",
      "30690-0.0    0.065503\n",
      "dtype: float64\n",
      "30760-0.0    0.144545\n",
      "dtype: float64\n"
     ]
    }
   ],
   "source": [
    "FID='30690'\n",
    "\n",
    "FID_tidy_name=\"Total_Cholesterol\"\n",
    "selected_categories={fieldID_to_ctgry_dict[FID][1]:['include',FID]}\n",
    "process_config={FID:{'type':'string'}}\n",
    "df_temp=preprocess(selected_categories,categories,UID_to_dscrpt,df,process_config)\n",
    "\n",
    "\n",
    "FID1='30760'\n",
    "FID_tidy_name=\"HDL_Cholesterol\"\n",
    "selected_categories={fieldID_to_ctgry_dict[FID1][1]:['include',FID1]}\n",
    "process_config={FID1:{'type':'string'}}\n",
    "df_temp1=preprocess(selected_categories,categories,UID_to_dscrpt,df,process_config)\n",
    "\n",
    "print(df_temp)\n",
    "df_temp=df_temp[[FID+'-0.0']]\n",
    "df_temp1=df_temp1[[FID1+'-0.0']]\n",
    "\n",
    "print('the percentage of na')\n",
    "print(df_temp.isna().sum()/df_temp.shape[0])\n",
    "print(df_temp1.isna().sum()/df_temp1.shape[0])\n",
    "\n",
    "FID_tidy_name=\"Cholesterol_to_HDL_Cholesterol\"\n",
    "df_tidy=pd.DataFrame(pd.to_numeric(df_temp[\"30690-0.0\"],errors='coerce')/pd.to_numeric(df_temp1[\"30760-0.0\"],errors='coerce'),columns=[FID_tidy_name],index=newdf.index)\n",
    "\n",
    "newdf=pd.concat([newdf,df_tidy],axis=1)\n",
    "\n",
    "selected_categories_tidy[fieldID_to_ctgry_dict[FID][1]]=[FID_tidy_name]\n",
    "selected_categories_tidy_columns[FID_tidy_name]={\"col_name\":list(df_tidy.columns.values),\"type\":\"binary\"}"
   ]
  },
  {
   "cell_type": "code",
   "execution_count": 136,
   "metadata": {},
   "outputs": [
    {
     "name": "stdout",
     "output_type": "stream",
     "text": [
      "From the category Alcohol the following where selected: \n",
      " \t {'20117'}\n",
      "\t FID 20117:  Alcohol drinker statusUses data-coding 90\n",
      "       20117-0.0 20117-1.0 20117-2.0\n",
      "0              2      <NA>      <NA>\n",
      "1              2         2         2\n",
      "2              2      <NA>         2\n",
      "3              2      <NA>      <NA>\n",
      "4              2      <NA>      <NA>\n",
      "...          ...       ...       ...\n",
      "502522         2      <NA>      <NA>\n",
      "502523         2      <NA>      <NA>\n",
      "502524         2      <NA>      <NA>\n",
      "502525         2      <NA>      <NA>\n",
      "502526         0      <NA>      <NA>\n",
      "\n",
      "[502527 rows x 3 columns]\n",
      "the percentage of na\n",
      "20117-0.0    0.001785\n",
      "dtype: float64\n",
      "Alcohol Status_Current                 460379\n",
      "Alcohol Status_Never                    22387\n",
      "Alcohol Status_Prefer not to answer       757\n",
      "Alcohol Status_Previous                 18107\n",
      "dtype: int64\n"
     ]
    }
   ],
   "source": [
    "FID='20117'\n",
    "data_coding='90'\n",
    "FID_tidy_name=\"Alcohol Status\"\n",
    "selected_categories={fieldID_to_ctgry_dict[FID][1]:['include',FID]}\n",
    "process_config={FID:{'type':'string'}}\n",
    "\n",
    "df_temp=preprocess(selected_categories,categories,UID_to_dscrpt,df,process_config)\n",
    "\n",
    "print(df_temp)\n",
    "df_temp=df_temp[[FID+'-0.0']]\n",
    "\n",
    "print('the percentage of na')\n",
    "print(df_temp.isna().sum()/df_temp.shape[0])\n",
    "\n",
    "df_tidy=tidy_coded_fieldID(bs,\"Coding \"+data_coding,FID_tidy_name+\"_\",FID,df_temp)\n",
    "\n",
    "newdf=pd.concat([newdf,df_tidy],axis=1)\n",
    "\n",
    "selected_categories_tidy[fieldID_to_ctgry_dict[FID][1]]=[FID_tidy_name]\n",
    "selected_categories_tidy_columns[FID_tidy_name]={\"col_name\":list(df_tidy.columns.values),\"type\":\"binary\"}"
   ]
  },
  {
   "cell_type": "code",
   "execution_count": 137,
   "metadata": {
    "scrolled": true
   },
   "outputs": [
    {
     "name": "stdout",
     "output_type": "stream",
     "text": [
      "From the category Smoking the following where selected: \n",
      " \t {'20116'}\n",
      "\t FID 20116:  Smoking statusUses data-coding 90\n",
      "the percentage of na\n",
      "20116-0.0    0.001773\n",
      "dtype: float64\n",
      "Smoking Status_Current                  52979\n",
      "Smoking Status_Never                   273533\n",
      "Smoking Status_Prefer not to answer      2059\n",
      "Smoking Status_Previous                173065\n",
      "dtype: int64\n"
     ]
    }
   ],
   "source": [
    "FID='20116'\n",
    "data_coding='90'\n",
    "FID_tidy_name=\"Smoking Status\"\n",
    "selected_categories={fieldID_to_ctgry_dict[FID][1]:['include',FID]}\n",
    "process_config={FID:{'type':'string'}}\n",
    "\n",
    "df_temp=preprocess(selected_categories,categories,UID_to_dscrpt,df,process_config)\n",
    "\n",
    "df_temp=df_temp[[FID+'-0.0']]\n",
    "\n",
    "print('the percentage of na')\n",
    "print(df_temp.isna().sum()/df_temp.shape[0])\n",
    "\n",
    "df_tidy=tidy_coded_fieldID(bs,\"Coding \"+data_coding,FID_tidy_name+\"_\",FID,df_temp)\n",
    "\n",
    "newdf=pd.concat([newdf,df_tidy],axis=1)\n",
    "\n",
    "selected_categories_tidy[fieldID_to_ctgry_dict[FID][1]]=[FID_tidy_name]\n",
    "selected_categories_tidy_columns[FID_tidy_name]={\"col_name\":list(df_tidy.columns.values),\"type\":\"binary\"}"
   ]
  },
  {
   "cell_type": "code",
   "execution_count": 138,
   "metadata": {},
   "outputs": [],
   "source": [
    "newdf.to_csv(r'tidy_data_tiles/Anthropometrics and cardiac risk factors.csv')"
   ]
  },
  {
   "cell_type": "markdown",
   "metadata": {},
   "source": [
    "# 2.4 Baseline medical conditions"
   ]
  },
  {
   "cell_type": "markdown",
   "metadata": {},
   "source": [
    "## 2.4.1 Read data-coding 6 from the html file to process 20002 (self-reported non-cancer illnesses)"
   ]
  },
  {
   "cell_type": "code",
   "execution_count": 139,
   "metadata": {},
   "outputs": [],
   "source": [
    "newdf=pd.DataFrame()"
   ]
  },
  {
   "cell_type": "markdown",
   "metadata": {},
   "source": [
    "## Since -99999 and -1 entries cause problems this does not use the function tidy_coded_fieldID()"
   ]
  },
  {
   "cell_type": "code",
   "execution_count": 140,
   "metadata": {},
   "outputs": [
    {
     "name": "stdout",
     "output_type": "stream",
     "text": [
      "From the category Medical conditions the following where selected: \n",
      " \t {'20002'}\n",
      "\t FID 20002:  Non-cancer illness code, self-reportedUses data-coding 6\n"
     ]
    }
   ],
   "source": [
    "FID='20002'  #20009 is the corresponding age\n",
    "data_coding='6'\n",
    "FID_tidy_name=\"Baseline Medical conditions\"\n",
    "\n",
    "selected_categories={fieldID_to_ctgry_dict[FID][1]:['include',FID]}\n",
    "process_config={FID:{'type':'string'}}\n",
    "\n",
    "df_temp=preprocess(selected_categories,categories,UID_to_dscrpt,df,process_config)\n",
    "\n",
    "#df_tidy=tidy_coded_fieldID(bs,\"Coding \"+data_coding,FID_tidy_name+\"_\",FID,df_temp)"
   ]
  },
  {
   "cell_type": "code",
   "execution_count": 141,
   "metadata": {},
   "outputs": [],
   "source": [
    "html_file = open(PATH_dict)\n",
    "html_content = html_file.read()\n",
    "\n",
    "bs = BeautifulSoup(html_content)\n",
    "table = bs.find(lambda tag: tag.name=='table' and tag.has_attr('summary') and tag['summary']==\"Coding 6\") \n",
    "\n",
    "pd_coding=pd.read_html(str(table))[0].astype(str)"
   ]
  },
  {
   "cell_type": "code",
   "execution_count": 142,
   "metadata": {},
   "outputs": [],
   "source": [
    "newdf=df_temp\n",
    "#Read all diseases (all instances) and compare times with recruitment time. if it's before age at recruitment consider it as baseline disease otherwise it's and endline disease\n",
    "disease_code_to_disease_dict=pd_coding[['Code','Meaning']].set_index('Code').to_dict()['Meaning']\n",
    "#disease_code_to_disease_dict['-1'] = disease_code_to_disease_dict.pop('-1(not selectable)')\n",
    "#disease_code_to_disease_dict['99999'] = disease_code_to_disease_dict.pop('99999(not selectable)')\n",
    "disease_code_to_disease_dict['-1']='deleteASAP'\n",
    "disease_code_to_disease_dict['99999']='deleteASAP'\n",
    "#disease_code_to_disease_dict_time=[value+'_t' for value in disease_code_to_disease_dict.values()]\n",
    "col_names=list(disease_code_to_disease_dict.values())#+disease_code_to_disease_dict_time\n",
    "col_names.sort()\n",
    "df_tidy=pd.DataFrame(index=newdf.index,columns=col_names)\n"
   ]
  },
  {
   "cell_type": "code",
   "execution_count": 143,
   "metadata": {},
   "outputs": [],
   "source": [
    "FID='20002'\n",
    "#grab columns corresponding to the first assessment x-0.y\n",
    "for patientID in newdf.index:\n",
    "    cols_FID=[col for col in newdf.columns if (FID in col) and col.split('-')[1].split('.')[0]=='0']\n",
    "    for col in cols_FID:\n",
    "        entry=newdf.loc[patientID,col]\n",
    "        if not pd.isna(entry):\n",
    "            df_tidy.loc[patientID,disease_code_to_disease_dict[entry]]=1\n",
    "df_tidy.fillna(0,inplace=True)\n",
    "df_tidy.drop(columns=['deleteASAP'],inplace=True)"
   ]
  },
  {
   "cell_type": "code",
   "execution_count": 144,
   "metadata": {},
   "outputs": [
    {
     "data": {
      "text/plain": [
       "abdominal hernia                                        325\n",
       "abnormal smear (cervix)                                 701\n",
       "acne/acne vulgaris                                      298\n",
       "acromegaly                                               66\n",
       "acute infective polyneuritis/guillain-barre syndrome    195\n",
       "                                                       ... \n",
       "vocal cord polyp                                        200\n",
       "wegners granulmatosis                                    94\n",
       "whooping cough / pertussis                              510\n",
       "wolff parkinson white / wpw syndrome                     79\n",
       "yellow fever                                             11\n",
       "Length: 445, dtype: int64"
      ]
     },
     "execution_count": 144,
     "metadata": {},
     "output_type": "execute_result"
    }
   ],
   "source": [
    "df_tidy.sum()"
   ]
  },
  {
   "cell_type": "code",
   "execution_count": 145,
   "metadata": {},
   "outputs": [
    {
     "name": "stdout",
     "output_type": "stream",
     "text": [
      "angina\n",
      "bile duct obstruction/ascending cholangitis\n",
      "sclerosing cholangitis\n"
     ]
    }
   ],
   "source": [
    "word='ang'\n",
    "for col in df_tidy.columns:\n",
    "    if word in col.lower():\n",
    "        print(col)"
   ]
  },
  {
   "cell_type": "markdown",
   "metadata": {},
   "source": [
    "### Exclusions\n",
    "\n",
    "disease exclusion: \n",
    "1. 'atrial fibrillation'\n",
    "2. 'atrial flutter'\n",
    "3. 'aortic valve disease' \n",
    "4. 'aortic regurgitation / incompetence',\n",
    "5. 'aortic stenosis' \n",
    "*6. 'heart attack/myocardial infarction'\n",
    "*7. 'heart failure/pulmonary odema'\n",
    "*8. 'heart valve problem/heart murmur'\n",
    "9. 'heart arrhythmia'\n",
    "10. 'irregular heart beat'\n",
    "11. 'hypertrophic cardiomyopathy (hcm / hocm)'\n",
    "*12. 'heart/cardiac problem'\n",
    "13. 'cardiomyopathy'\n",
    "14. 'myocarditis'\n",
    "*15. 'ischaemic stroke'\n",
    "16. 'mitral regurgitation / incompetence'\n",
    "17. 'mitral stenosis'\n",
    "18. 'mitral valve disease'\n",
    "19. 'mitral valve prolapse'\n",
    "20. 'svt / supraventricular tachycardia'\n",
    "\n",
    "\n",
    "How about:\n",
    "1. 'aortic aneurysm',\n",
    "2. 'aortic aneurysm rupture'\n",
    "3. 'aortic dissection'\n",
    "7. 'arterial embolism'  \n",
    "*9. 'peripheral vascular disease'\n",
    "11. 'varicose ulcer'\n",
    "12. 'varicose veins'\n",
    "13. 'venous thromboembolic disease'\n",
    "14. deep venous thrombosis (dvt)\n",
    "15. pericardial effusion\n",
    "16. pericardial problem\n",
    "17. pericarditis\n",
    "microscopic polyarteritis\n",
    "polyartertis nodosa\n",
    "\n",
    "predictor:\n",
    "1. 'hypertension'\n",
    "\n",
    "\n",
    "\"\"\""
   ]
  },
  {
   "cell_type": "code",
   "execution_count": 146,
   "metadata": {},
   "outputs": [],
   "source": [
    "exclude_self_reported=['atrial fibrillation',\n",
    "'angina',\n",
    "'atrial flutter',\n",
    "'aortic valve disease',\n",
    "'aortic regurgitation / incompetence',\n",
    "'aortic stenosis',\n",
    "'heart attack/myocardial infarction',\n",
    "'heart failure/pulmonary odema',\n",
    "'heart valve problem/heart murmur',\n",
    "'heart arrhythmia',\n",
    "'irregular heart beat',\n",
    "'hypertrophic cardiomyopathy (hcm / hocm)',\n",
    "'heart/cardiac problem',\n",
    "'cardiomyopathy',\n",
    "'myocarditis',\n",
    "'ischaemic stroke',\n",
    "'mitral regurgitation / incompetence',\n",
    "'mitral stenosis',\n",
    "'mitral valve disease',\n",
    "'mitral valve prolapse',\n",
    "'svt / supraventricular tachycardia']"
   ]
  },
  {
   "cell_type": "code",
   "execution_count": 147,
   "metadata": {},
   "outputs": [],
   "source": [
    "df_tidy['Exclude_baseline_MedCon']=df_tidy[exclude_self_reported].sum(axis=1)\n",
    "df_tidy.drop(columns=exclude_self_reported,inplace=True)"
   ]
  },
  {
   "cell_type": "code",
   "execution_count": 148,
   "metadata": {},
   "outputs": [],
   "source": [
    "newdf=df_tidy\n",
    "\n",
    "selected_categories_tidy[fieldID_to_ctgry_dict[FID][1]]=[FID_tidy_name]\n",
    "selected_categories_tidy_columns[FID_tidy_name]={\"col_name\":list(df_tidy.columns.values),\"type\":\"binary\"}\n",
    "selected_categories_exclusions.append('Exclude_baseline_MedCon')"
   ]
  },
  {
   "cell_type": "code",
   "execution_count": 149,
   "metadata": {},
   "outputs": [],
   "source": [
    "newdf.to_csv(r'tidy_data_tiles/Baseline Medical Conditions.csv')"
   ]
  },
  {
   "cell_type": "markdown",
   "metadata": {},
   "source": [
    "## QRISK parameters from self-reported"
   ]
  },
  {
   "cell_type": "code",
   "execution_count": 150,
   "metadata": {},
   "outputs": [],
   "source": [
    "qrisk_df=pd.DataFrame(columns=[\"diabetes\"],index=newdf.index)"
   ]
  },
  {
   "cell_type": "markdown",
   "metadata": {},
   "source": [
    "### diabetes SR"
   ]
  },
  {
   "cell_type": "code",
   "execution_count": 151,
   "metadata": {},
   "outputs": [
    {
     "data": {
      "text/plain": [
       "['diabetes',\n",
       " 'diabetes insipidus',\n",
       " 'diabetic eye disease',\n",
       " 'diabetic nephropathy',\n",
       " 'diabetic neuropathy/ulcers',\n",
       " 'gestational diabetes',\n",
       " 'type 1 diabetes',\n",
       " 'type 2 diabetes']"
      ]
     },
     "execution_count": 151,
     "metadata": {},
     "output_type": "execute_result"
    }
   ],
   "source": [
    "pat=re.compile('diab')\n",
    "cols=list(filter(pat.findall, newdf.columns.values))\n",
    "cols"
   ]
  },
  {
   "cell_type": "code",
   "execution_count": 152,
   "metadata": {},
   "outputs": [],
   "source": [
    "cols=['diabetes',\n",
    " 'diabetic eye disease',\n",
    " 'diabetic nephropathy',\n",
    " 'diabetic neuropathy/ulcers',\n",
    " 'type 1 diabetes',\n",
    " 'type 2 diabetes',\n",
    " 'kidney nephropathy']"
   ]
  },
  {
   "cell_type": "code",
   "execution_count": 153,
   "metadata": {},
   "outputs": [
    {
     "data": {
      "text/plain": [
       "diabetes                      21724\n",
       "diabetic eye disease           1171\n",
       "diabetic nephropathy             20\n",
       "diabetic neuropathy/ulcers      153\n",
       "type 1 diabetes                 438\n",
       "type 2 diabetes                3377\n",
       "kidney nephropathy               70\n",
       "dtype: int64"
      ]
     },
     "execution_count": 153,
     "metadata": {},
     "output_type": "execute_result"
    }
   ],
   "source": [
    "newdf[cols].sum()"
   ]
  },
  {
   "cell_type": "code",
   "execution_count": 154,
   "metadata": {},
   "outputs": [],
   "source": [
    "qrisk_df[\"diabetes_1\"]=newdf['type 1 diabetes']"
   ]
  },
  {
   "cell_type": "code",
   "execution_count": 155,
   "metadata": {},
   "outputs": [],
   "source": [
    "qrisk_df[\"diabetes_2\"]=newdf['type 2 diabetes']"
   ]
  },
  {
   "cell_type": "markdown",
   "metadata": {},
   "source": [
    "### Chronic Kidney disease\n",
    "Only failure was reported "
   ]
  },
  {
   "cell_type": "code",
   "execution_count": 156,
   "metadata": {},
   "outputs": [
    {
     "data": {
      "text/plain": [
       "[]"
      ]
     },
     "execution_count": 156,
     "metadata": {},
     "output_type": "execute_result"
    }
   ],
   "source": [
    "pat=re.compile('beat')\n",
    "cols=list(filter(pat.findall, newdf.columns.values))\n",
    "cols"
   ]
  },
  {
   "cell_type": "code",
   "execution_count": 157,
   "metadata": {},
   "outputs": [
    {
     "data": {
      "text/plain": [
       "['adrenal tumour',\n",
       " 'disorder of adrenal gland',\n",
       " 'other renal/kidney problem',\n",
       " 'renal failure not requiring dialysis',\n",
       " 'renal failure requiring dialysis',\n",
       " 'renal/kidney failure']"
      ]
     },
     "execution_count": 157,
     "metadata": {},
     "output_type": "execute_result"
    }
   ],
   "source": [
    "pat=re.compile('renal')\n",
    "cols2=list(filter(pat.findall, newdf.columns.values))\n",
    "cols2"
   ]
  },
  {
   "cell_type": "code",
   "execution_count": 158,
   "metadata": {},
   "outputs": [
    {
     "data": {
      "text/plain": [
       "renal failure not requiring dialysis    398\n",
       "renal failure requiring dialysis        267\n",
       "renal/kidney failure                    232\n",
       "dtype: int64"
      ]
     },
     "execution_count": 158,
     "metadata": {},
     "output_type": "execute_result"
    }
   ],
   "source": [
    "cols=['renal failure not requiring dialysis','renal failure requiring dialysis','renal/kidney failure']\n",
    "newdf[cols].sum()"
   ]
  },
  {
   "cell_type": "code",
   "execution_count": 159,
   "metadata": {},
   "outputs": [],
   "source": [
    "disease_name=\"CKD\"\n",
    "qrisk_df[disease_name]=0"
   ]
  },
  {
   "cell_type": "markdown",
   "metadata": {},
   "source": [
    "## Migraine "
   ]
  },
  {
   "cell_type": "code",
   "execution_count": 160,
   "metadata": {},
   "outputs": [
    {
     "data": {
      "text/plain": [
       "['headaches (not migraine)', 'migraine']"
      ]
     },
     "execution_count": 160,
     "metadata": {},
     "output_type": "execute_result"
    }
   ],
   "source": [
    "pat=re.compile('migraine')\n",
    "cols=list(filter(pat.findall, newdf.columns.values))\n",
    "cols"
   ]
  },
  {
   "cell_type": "code",
   "execution_count": 161,
   "metadata": {},
   "outputs": [
    {
     "data": {
      "text/plain": [
       "migraine    14384\n",
       "dtype: int64"
      ]
     },
     "execution_count": 161,
     "metadata": {},
     "output_type": "execute_result"
    }
   ],
   "source": [
    "cols=['migraine']\n",
    "newdf[cols].sum()"
   ]
  },
  {
   "cell_type": "code",
   "execution_count": 162,
   "metadata": {},
   "outputs": [],
   "source": [
    "disease_name=\"Migraine\"\n",
    "qrisk_df[disease_name]=newdf[cols]"
   ]
  },
  {
   "cell_type": "markdown",
   "metadata": {},
   "source": [
    "## Rheumatoid arthritis"
   ]
  },
  {
   "cell_type": "code",
   "execution_count": 163,
   "metadata": {},
   "outputs": [
    {
     "data": {
      "text/plain": [
       "['arthritis (nos)',\n",
       " 'osteoarthritis',\n",
       " 'rheumatoid arthritis',\n",
       " 'spine arthritis/spondylitis']"
      ]
     },
     "execution_count": 163,
     "metadata": {},
     "output_type": "execute_result"
    }
   ],
   "source": [
    "pat=re.compile('arthritis')\n",
    "cols=list(filter(pat.findall, newdf.columns.values))\n",
    "cols"
   ]
  },
  {
   "cell_type": "code",
   "execution_count": 164,
   "metadata": {},
   "outputs": [
    {
     "data": {
      "text/plain": [
       "rheumatoid arthritis    5658\n",
       "dtype: int64"
      ]
     },
     "execution_count": 164,
     "metadata": {},
     "output_type": "execute_result"
    }
   ],
   "source": [
    "cols=['rheumatoid arthritis']\n",
    "newdf[cols].sum()"
   ]
  },
  {
   "cell_type": "code",
   "execution_count": 165,
   "metadata": {},
   "outputs": [],
   "source": [
    "disease_name=\"Rheumatoid arthritis\"\n",
    "qrisk_df[disease_name]=newdf[cols]"
   ]
  },
  {
   "cell_type": "markdown",
   "metadata": {},
   "source": [
    "## systemic lupus erythematosis/sle"
   ]
  },
  {
   "cell_type": "code",
   "execution_count": 166,
   "metadata": {},
   "outputs": [
    {
     "data": {
      "text/plain": [
       "['systemic lupus erythematosis/sle']"
      ]
     },
     "execution_count": 166,
     "metadata": {},
     "output_type": "execute_result"
    }
   ],
   "source": [
    "pat=re.compile('systemic lupus erythematosis/sle')\n",
    "cols=list(filter(pat.findall, newdf.columns.values))\n",
    "cols"
   ]
  },
  {
   "cell_type": "code",
   "execution_count": 167,
   "metadata": {},
   "outputs": [
    {
     "data": {
      "text/plain": [
       "systemic lupus erythematosis/sle    642\n",
       "dtype: int64"
      ]
     },
     "execution_count": 167,
     "metadata": {},
     "output_type": "execute_result"
    }
   ],
   "source": [
    "cols=['systemic lupus erythematosis/sle']\n",
    "newdf[cols].sum()"
   ]
  },
  {
   "cell_type": "code",
   "execution_count": 168,
   "metadata": {},
   "outputs": [],
   "source": [
    "disease_name=\"SLE\"\n",
    "qrisk_df[disease_name]=newdf[cols]"
   ]
  },
  {
   "cell_type": "markdown",
   "metadata": {},
   "source": [
    "## Severe mental illness"
   ]
  },
  {
   "cell_type": "code",
   "execution_count": 169,
   "metadata": {},
   "outputs": [
    {
     "data": {
      "text/plain": [
       "['alcohol dependency',\n",
       " 'depression',\n",
       " 'mania/bipolar disorder/manic depression',\n",
       " 'opioid dependency',\n",
       " 'other substance abuse/dependency',\n",
       " 'post-natal depression']"
      ]
     },
     "execution_count": 169,
     "metadata": {},
     "output_type": "execute_result"
    }
   ],
   "source": [
    "pat=re.compile('dep')\n",
    "cols=list(filter(pat.findall, newdf.columns.values))\n",
    "cols"
   ]
  },
  {
   "cell_type": "code",
   "execution_count": 170,
   "metadata": {},
   "outputs": [
    {
     "data": {
      "text/plain": [
       "mania/bipolar disorder/manic depression    1411\n",
       "schizophrenia                               618\n",
       "dtype: int64"
      ]
     },
     "execution_count": 170,
     "metadata": {},
     "output_type": "execute_result"
    }
   ],
   "source": [
    "cols=['mania/bipolar disorder/manic depression',\"schizophrenia\"]\n",
    "newdf[cols].sum()"
   ]
  },
  {
   "cell_type": "code",
   "execution_count": 171,
   "metadata": {},
   "outputs": [],
   "source": [
    "disease_name=\"severe_mental\"\n",
    "qrisk_df.loc[newdf[cols].any(axis=1),disease_name]=1"
   ]
  },
  {
   "cell_type": "markdown",
   "metadata": {},
   "source": [
    "## Erectile dysfunction"
   ]
  },
  {
   "cell_type": "code",
   "execution_count": 172,
   "metadata": {},
   "outputs": [
    {
     "data": {
      "text/plain": [
       "['erectile dysfunction / impotence']"
      ]
     },
     "execution_count": 172,
     "metadata": {},
     "output_type": "execute_result"
    }
   ],
   "source": [
    "pat=re.compile('erect')\n",
    "cols=list(filter(pat.findall, newdf.columns.values))\n",
    "cols"
   ]
  },
  {
   "cell_type": "code",
   "execution_count": 173,
   "metadata": {},
   "outputs": [
    {
     "data": {
      "text/plain": [
       "erectile dysfunction / impotence    305\n",
       "dtype: int64"
      ]
     },
     "execution_count": 173,
     "metadata": {},
     "output_type": "execute_result"
    }
   ],
   "source": [
    "cols=['erectile dysfunction / impotence']\n",
    "newdf[cols].sum()"
   ]
  },
  {
   "cell_type": "code",
   "execution_count": 174,
   "metadata": {},
   "outputs": [],
   "source": [
    "disease_name=\"erectile_dysfunction\"\n",
    "qrisk_df.loc[newdf[cols].any(axis=1),disease_name]=1"
   ]
  },
  {
   "cell_type": "code",
   "execution_count": 175,
   "metadata": {},
   "outputs": [
    {
     "data": {
      "text/plain": [
       "diabetes                    0.0\n",
       "diabetes_1                438.0\n",
       "diabetes_2               3377.0\n",
       "CKD                         0.0\n",
       "Migraine                14384.0\n",
       "Rheumatoid arthritis     5658.0\n",
       "SLE                       642.0\n",
       "severe_mental            1995.0\n",
       "erectile_dysfunction      305.0\n",
       "dtype: float64"
      ]
     },
     "execution_count": 175,
     "metadata": {},
     "output_type": "execute_result"
    }
   ],
   "source": [
    "qrisk_df.sum()"
   ]
  },
  {
   "cell_type": "markdown",
   "metadata": {},
   "source": [
    "### Hypertension"
   ]
  },
  {
   "cell_type": "code",
   "execution_count": 176,
   "metadata": {},
   "outputs": [
    {
     "data": {
      "text/plain": [
       "['essential hypertension',\n",
       " 'gestational hypertension/pre-eclampsia',\n",
       " 'hypertension']"
      ]
     },
     "execution_count": 176,
     "metadata": {},
     "output_type": "execute_result"
    }
   ],
   "source": [
    "pat=re.compile('hypertension')\n",
    "cols=list(filter(pat.findall, newdf.columns.values))\n",
    "cols"
   ]
  },
  {
   "cell_type": "markdown",
   "metadata": {},
   "source": [
    "# 2.5  Home Location"
   ]
  },
  {
   "cell_type": "code",
   "execution_count": 177,
   "metadata": {},
   "outputs": [
    {
     "name": "stdout",
     "output_type": "stream",
     "text": [
      "From the category Home locations the following where selected: \n",
      " \t {'22700'}\n",
      "\t FID 22700:  Date first recorded at locationUses data-coding 1313\n",
      "From the category Reception the following where selected: \n",
      " \t {'53'}\n",
      "\t FID 53:  Date of attending assessment centre\n"
     ]
    }
   ],
   "source": [
    "FID='22700'  #53 is the corresponding age\n",
    "FID_tidy_name=\"Home location EC\"\n",
    "\n",
    "selected_categories={fieldID_to_ctgry_dict[FID][1]:['include',FID]}\n",
    "process_config={FID:{'type':'string'}}\n",
    "\n",
    "df_temp=preprocess(selected_categories,categories,UID_to_dscrpt,df,process_config).apply(pd.to_datetime)\n",
    "\n",
    "for index in df_temp.index:\n",
    "    df_temp.iloc[index]\n",
    "    \n",
    "\n",
    "#Get date first attended\n",
    "selected_categories1={fieldID_to_ctgry_dict['53'][1]:['include','53']}\n",
    "process_config1={'53':{'type':'string'}}\n",
    "\n",
    "df_date_assessment=pd.to_datetime(preprocess(selected_categories1,categories,\n",
    "                                             UID_to_dscrpt,df,process_config1)['53-0.0'],format='%Y-%m-%d').to_frame()\n",
    "\n",
    "#df_tidy=tidy_coded_fieldID(bs,\"Coding \"+data_coding,FID_tidy_name+\"_\",FID,df_temp)"
   ]
  },
  {
   "cell_type": "code",
   "execution_count": 178,
   "metadata": {},
   "outputs": [],
   "source": [
    "df_valid=pd.DataFrame(index=df_temp.index,columns=['Exclude_Home_location','Home_Longitude','Home_Latitude'])\n",
    "for index in df_temp.index:\n",
    "    df_valid.loc[index,'Exclude_Home_location']=any((df_temp.loc[index,df_temp.iloc[index].notna()] > df_date_assessment.loc[index,'53-0.0']) & (df_temp.loc[index,df_temp.iloc[index].notna()]< df_date_assessment.loc[index,'53-0.0']+pd.Timedelta(weeks=261)))#checks if the last date for which I have a registered address is smaller than the date of assessment. If this is not true it means after the assessment the address has changes and the patient should be excluded\n",
    "df_valid['Home_Longitude']=df['20074-0.0']\n",
    "df_valid['Home_Latitude']=df['20075-0.0']"
   ]
  },
  {
   "cell_type": "code",
   "execution_count": 179,
   "metadata": {},
   "outputs": [
    {
     "data": {
      "text/plain": [
       "(502527, 3)"
      ]
     },
     "execution_count": 179,
     "metadata": {},
     "output_type": "execute_result"
    }
   ],
   "source": [
    "df_valid.shape"
   ]
  },
  {
   "cell_type": "code",
   "execution_count": 180,
   "metadata": {},
   "outputs": [],
   "source": [
    "selected_categories_tidy['Home locations']=['Home location at assessment']\n",
    "selected_categories_tidy_columns['Home location at assessment']={\"col_name\":['Home_Longitude','Home_Latitude'],\"type\":\"int\"}\n",
    "selected_categories_exclusions.append(\"Exclude_Home_location\")"
   ]
  },
  {
   "cell_type": "markdown",
   "metadata": {},
   "source": [
    "## 2.5.1 Add 20118 _ Home area population density"
   ]
  },
  {
   "cell_type": "code",
   "execution_count": 181,
   "metadata": {},
   "outputs": [
    {
     "name": "stdout",
     "output_type": "stream",
     "text": [
      "From the category Reception the following where selected: \n",
      " \t {'20118'}\n",
      "\t FID 20118:  Home area population density - urban or ruralUses data-coding 91\n"
     ]
    }
   ],
   "source": [
    "FID='20118'  #53 is the corresponding age\n",
    "FID_tidy_name=\"Home area population density\"\n",
    "\n",
    "selected_categories={fieldID_to_ctgry_dict[FID][1]:['include',FID]}\n",
    "process_config={FID:{'type':'string'}}\n",
    "\n",
    "df_temp=preprocess(selected_categories,categories,UID_to_dscrpt,df,process_config)"
   ]
  },
  {
   "cell_type": "code",
   "execution_count": 182,
   "metadata": {},
   "outputs": [],
   "source": [
    "newdf=pd.concat([df_valid,df_temp],axis=1)\n",
    "\n",
    "selected_categories_tidy['Home locations'].append(FID_tidy_name)\n",
    "selected_categories_tidy_columns[FID_tidy_name]={\"col_name\":list(df_temp.columns.values),\"type\":\"int\"}"
   ]
  },
  {
   "cell_type": "code",
   "execution_count": 183,
   "metadata": {},
   "outputs": [],
   "source": [
    "newdf.to_csv(r'tidy_data_tiles/Home locations.csv')"
   ]
  },
  {
   "cell_type": "markdown",
   "metadata": {},
   "source": [
    "# 2.6 Pollutants"
   ]
  },
  {
   "cell_type": "markdown",
   "metadata": {},
   "source": [
    "## 2.6.1 Pollutants"
   ]
  },
  {
   "cell_type": "code",
   "execution_count": 184,
   "metadata": {},
   "outputs": [],
   "source": [
    "#PM 24005  24006 24007 24008   NOx 24003  24004  Noise   24020 24021 24022"
   ]
  },
  {
   "cell_type": "code",
   "execution_count": 185,
   "metadata": {},
   "outputs": [
    {
     "name": "stdout",
     "output_type": "stream",
     "text": [
      "From the category Residential air pollution the following where selected: \n",
      " \t {'24005', '24007', '24003', '24008', '24006', '24004'}\n",
      "\t FID 24005:  Particulate matter air pollution (pm10); 2010\n",
      "\t FID 24007:  Particulate matter air pollution (pm2.5) absorbance; 2010\n",
      "\t FID 24003:  Nitrogen dioxide air pollution; 2010\n",
      "\t FID 24008:  Particulate matter air pollution 2.5-10um; 2010\n",
      "\t FID 24006:  Particulate matter air pollution (pm2.5); 2010\n",
      "\t FID 24004:  Nitrogen oxides air pollution; 2010\n",
      "       24005-0.0 24007-0.0 24003-0.0 24008-0.0          24006-0.0 24004-0.0\n",
      "0          14.48      1.23     31.57      5.68               10.4     53.83\n",
      "1          15.93      1.26     29.36      6.02  9.960000000000001     45.93\n",
      "2          16.84       1.3     29.68      6.42               9.27     46.93\n",
      "3          19.17      1.58      33.7      7.79               11.6     60.85\n",
      "4           14.9      0.97     25.46      5.87              10.85     45.61\n",
      "...          ...       ...       ...       ...                ...       ...\n",
      "502522     20.34      0.93     20.62      9.08               9.76     33.79\n",
      "502523     17.51      1.78     34.07       6.7              10.96     55.22\n",
      "502524     15.22      1.37     31.22      5.78              10.86     48.16\n",
      "502525     14.83      1.04     21.87      5.92  9.029999999999999      34.8\n",
      "502526     16.96      1.36     33.87      6.45              10.68     52.79\n",
      "\n",
      "[502527 rows x 6 columns]\n"
     ]
    }
   ],
   "source": [
    "selected_categories={'Residential air pollution':['include','24003', '24004','24005',  '24006', '24007', '24008']}\n",
    "process_config={'24005':{'type':'string'},'24006':{'type':'string'},'24007':{'type':'string'},'24008':{'type':'string'},\n",
    "                '24003':{'type':'string'},'24004':{'type':'string'}}\n",
    "\n",
    "df_temp=preprocess(selected_categories,categories,UID_to_dscrpt,df,process_config)\n",
    "\n",
    "print(df_temp)\n",
    "\n",
    "newdf=df_temp\n",
    "\n",
    "selected_categories_tidy_temp={'Residential air pollution':['24003: Nitrogen dioxide air pollution; 2010',\n",
    " '24004: Nitrogen oxides air pollution; 2010',\n",
    " '24005: Particulate matter air pollution (pm10); 2010',\n",
    " '24006: Particulate matter air pollution (pm2.5); 2010',\n",
    " '24007: Particulate matter air pollution (pm2.5) absorbance; 2010',\n",
    " '24008: Particulate matter air pollution 2.5-10um; 2010']}\n",
    "selected_categories_tidy_columns_temp={'24003: Nitrogen dioxide air pollution; 2010':{\"col_name\":['24003-0.0'],\"type\":'float'},\n",
    "                                       '24004: Nitrogen oxides air pollution; 2010':{\"col_name\":['24004-0.0'],\"type\":'float'},\n",
    "                                       '24005: Particulate matter air pollution (pm10); 2010':{\"col_name\":['24005-0.0'],\"type\":'float'},\n",
    "                                       '24006: Particulate matter air pollution (pm2.5); 2010':{\"col_name\":['24006-0.0'],\"type\":'float'},\n",
    "                                       '24007: Particulate matter air pollution (pm2.5) absorbance; 2010':{\"col_name\":['24007-0.0'],\"type\":'float'},\n",
    "                                       '24008: Particulate matter air pollution 2.5-10um; 2010':{\"col_name\":['24008-0.0'],\"type\":'float'}}\n"
   ]
  },
  {
   "cell_type": "markdown",
   "metadata": {},
   "source": [
    "## 2.6.2 Road \n",
    "24009: Traffic intensity on the nearest road',\n",
    " '24010: Inverse distance to the nearest road',\n",
    " '24011: Traffic intensity on the nearest major road',\n",
    " '24012: Inverse distance to the nearest major road',\n",
    " '24013: Total traffic load on major roads',\n",
    " '24014: Close to major roadUses data-coding 7 comprises 2 Integer-valued members in a simple list.',\n",
    " '24015: Sum of road length of major roads within 100m',"
   ]
  },
  {
   "cell_type": "code",
   "execution_count": 186,
   "metadata": {},
   "outputs": [
    {
     "name": "stdout",
     "output_type": "stream",
     "text": [
      "From the category Residential air pollution the following where selected: \n",
      " \t {'24010', '24012', '24015', '24011', '24009', '24014', '24013'}\n",
      "\t FID 24010:  Inverse distance to the nearest road\n",
      "\t FID 24012:  Inverse distance to the nearest major road\n",
      "\t FID 24015:  Sum of road length of major roads within 100m\n",
      "\t FID 24011:  Traffic intensity on the nearest major road\n",
      "\t FID 24009:  Traffic intensity on the nearest road\n",
      "\t FID 24014:  Close to major roadUses data-coding 12\n",
      "\t FID 24013:  Total traffic load on major roads\n"
     ]
    }
   ],
   "source": [
    "selected_categories={'Residential air pollution':['include','24009',  '24010', '24011', '24012',\n",
    "                                                 '24013', '24014','24015']}\n",
    "process_config={'24009':{'type':'string'},'24010':{'type':'string'},'24011':{'type':'string'},'24012':{'type':'string'},\n",
    "                '24013':{'type':'string'},'24014':{'type':'string'},'24015':{'type':'string'}}\n",
    "df_temp=preprocess(selected_categories,categories,UID_to_dscrpt,df,process_config)"
   ]
  },
  {
   "cell_type": "code",
   "execution_count": 187,
   "metadata": {},
   "outputs": [],
   "source": [
    "newdf=pd.concat([newdf,df_temp],axis=1)"
   ]
  },
  {
   "cell_type": "code",
   "execution_count": 188,
   "metadata": {},
   "outputs": [],
   "source": [
    "newdf['24014-0.0'].fillna('0',inplace=True)"
   ]
  },
  {
   "cell_type": "code",
   "execution_count": 189,
   "metadata": {},
   "outputs": [],
   "source": [
    "selected_categories_tidy_temp['Residential air pollution']+=[ '24009: Traffic intensity on the nearest road',\n",
    " '24010: Inverse distance to the nearest road',\n",
    " '24011: Traffic intensity on the nearest major road',\n",
    " '24012: Inverse distance to the nearest major road',\n",
    " '24013: Total traffic load on major roads',\n",
    " '24014: Close to major roadUses data-coding 7 comprises 2 Integer-valued members in a simple list.',\n",
    " '24015: Sum of road length of major roads within 100m']\n",
    "selected_categories_tidy_columns_temp1={'24009: Traffic intensity on the nearest road':{\"col_name\":['24009-0.0'],\"type\":'int'},\n",
    "                                       '24010: Inverse distance to the nearest road':{\"col_name\":['24010-0.0'],\"type\":'float'},\n",
    "                                       '24011: Traffic intensity on the nearest major road':{\"col_name\":['24011-0.0'],\"type\":'int'},\n",
    "                                       '24012: Inverse distance to the nearest major road':{\"col_name\":['24012-0.0'],\"type\":'float'},\n",
    "                                       '24013: Total traffic load on major roads':{\"col_name\":['24013-0.0'],\"type\":'int'},\n",
    "                                       '24014: Close to major road':{\"col_name\":['24014-0.0'],\"type\":'binary'},\n",
    "                                       '24015: Sum of road length of major roads within 100m':{\"col_name\":['24015-0.0'],\"type\":'float'}}\n",
    "\n",
    "selected_categories_tidy_columns_temp={**selected_categories_tidy_columns_temp,**selected_categories_tidy_columns_temp1}"
   ]
  },
  {
   "cell_type": "code",
   "execution_count": 190,
   "metadata": {},
   "outputs": [],
   "source": [
    "selected_categories_tidy={**selected_categories_tidy,**selected_categories_tidy_temp}\n",
    "selected_categories_tidy_columns={**selected_categories_tidy_columns,**selected_categories_tidy_columns_temp}"
   ]
  },
  {
   "cell_type": "code",
   "execution_count": 191,
   "metadata": {},
   "outputs": [],
   "source": [
    "newdf.to_csv(r'tidy_data_tiles/Pollutants.csv')"
   ]
  },
  {
   "cell_type": "code",
   "execution_count": 192,
   "metadata": {},
   "outputs": [],
   "source": [
    "def save_obj(obj, name ):\n",
    "    with open('obj_'+ name + '.pkl', 'wb') as f:\n",
    "        pickle.dump(obj, f, pickle.HIGHEST_PROTOCOL)\n",
    "\n",
    "def load_obj(name ):\n",
    "    with open('obj_' + name + '.pkl', 'rb') as f:\n",
    "        return pickle.load(f)"
   ]
  },
  {
   "cell_type": "code",
   "execution_count": 193,
   "metadata": {},
   "outputs": [],
   "source": [
    "import pickle\n",
    "save_obj(selected_categories_tidy,'selected_categories_tidy')\n",
    "save_obj(selected_categories_tidy_columns,'selected_categories_tidy_columns')\n",
    "save_obj(selected_categories_exclusions,'selected_categories_exclusions')"
   ]
  },
  {
   "cell_type": "code",
   "execution_count": 194,
   "metadata": {},
   "outputs": [
    {
     "data": {
      "text/plain": [
       "['Exclude_baseline_MedCon', 'Exclude_Home_location']"
      ]
     },
     "execution_count": 194,
     "metadata": {},
     "output_type": "execute_result"
    }
   ],
   "source": [
    "load_obj('selected_categories_exclusions')"
   ]
  },
  {
   "cell_type": "markdown",
   "metadata": {},
   "source": [
    "# 2.3 Read early life factors and store "
   ]
  },
  {
   "cell_type": "code",
   "execution_count": 195,
   "metadata": {},
   "outputs": [
    {
     "data": {
      "text/plain": [
       "['120: Birth weight knownUses data-coding 100258',\n",
       " '129: Place of birth in UK - north co-ordinateUses data-coding 170',\n",
       " '130: Place of birth in UK - east co-ordinateUses data-coding 170',\n",
       " '1647: Country of birth (UK/elsewhere)Uses data-coding 100420',\n",
       " '1677: Breastfed as a babyUses data-coding 100349',\n",
       " '1687: Comparative body size at age 10Uses data-coding 100428',\n",
       " '1697: Comparative height size at age 10Uses data-coding 100429',\n",
       " '1707: Handedness (chirality/laterality)Uses data-coding 100430',\n",
       " '1767: Adopted as a childUses data-coding 100435',\n",
       " '1777: Part of a multiple birthUses data-coding 100435',\n",
       " '1787: Maternal smoking around birthUses data-coding 100435',\n",
       " '20022: Birth weight',\n",
       " '20115: Country of Birth (non-UK origin)Uses data-coding 89']"
      ]
     },
     "execution_count": 195,
     "metadata": {},
     "output_type": "execute_result"
    }
   ],
   "source": [
    "categories['Early life factors']"
   ]
  },
  {
   "cell_type": "code",
   "execution_count": 196,
   "metadata": {},
   "outputs": [
    {
     "name": "stdout",
     "output_type": "stream",
     "text": [
      "From the category Early life factors the following where selected: \n",
      " \t {'130', '129', '20022', '20115'}\n",
      "\t FID 130:  Place of birth in UK - east co-ordinateUses data-coding 170\n",
      "\t FID 129:  Place of birth in UK - north co-ordinateUses data-coding 170\n",
      "\t FID 20022:  Birth weight\n",
      "\t FID 20115:  Country of Birth (non-UK origin)Uses data-coding 89\n"
     ]
    }
   ],
   "source": [
    "selected_categories={'Early life factors':['include','20022','129','130','20115']}\n",
    "process_config={'20022':{'type':'float'},'129':{'type':'float'},'130':{'type':'float'},'20115':{'type':'float'}}\n",
    "newdf=preprocess(selected_categories,categories,UID_to_dscrpt,df,process_config)"
   ]
  },
  {
   "cell_type": "code",
   "execution_count": 197,
   "metadata": {},
   "outputs": [],
   "source": [
    "newdf=newdf[[\"129-0.0\",\"130-0.0\",\"20115-0.0\",\"20022-0.0\"]]"
   ]
  },
  {
   "cell_type": "code",
   "execution_count": 198,
   "metadata": {},
   "outputs": [],
   "source": [
    "selected_categories_tidy_temp={'Early life factors':['Place of birth in UK - north co-ordinate','Place of birth in UK - east co-ordinate','Country of Birth','Birth weight']}\n",
    "selected_categories_tidy_columns_temp={'Place of birth in UK - north co-ordinate':{\"col_name\":['129-0.0'],\"type\":\"int\"},\n",
    "                                       'Place of birth in UK - east co-ordinate':{\"col_name\":['130-0.0'],\"type\":\"int\"},\n",
    "                                       'Country of Birth':{\"col_name\":['20115-0.0'],\"type\":\"int\"},\n",
    "                                       'Birth weight':{\"col_name\":['20022-0.0'],\"type\":\"float\"}}\n",
    "newdf.to_csv(r'tidy_data_tiles/Early life factors.csv')"
   ]
  },
  {
   "cell_type": "code",
   "execution_count": 199,
   "metadata": {},
   "outputs": [],
   "source": [
    "selected_categories_tidy={**selected_categories_tidy,**selected_categories_tidy_temp}\n",
    "selected_categories_tidy_columns={**selected_categories_tidy_columns,**selected_categories_tidy_columns_temp}"
   ]
  },
  {
   "cell_type": "markdown",
   "metadata": {},
   "source": [
    "## 2.4 Process 41270 & 41280 (primary and secondary)"
   ]
  },
  {
   "cell_type": "code",
   "execution_count": 205,
   "metadata": {},
   "outputs": [
    {
     "name": "stdout",
     "output_type": "stream",
     "text": [
      "Field ID: 40001 _ Underlying (primary) cause of death: ICD10Uses data-coding 19\n",
      "\n",
      "Field ID: 40002 _ Contributory (secondary) causes of death: ICD10Uses data-coding 19\n",
      "\n",
      "Field ID: 40006 _ Type of cancer: ICD10Uses data-coding 19\n",
      "\n",
      "Field ID: 41201 _ External causes - ICD10Uses data-coding 240\n",
      "\n",
      "Field ID: 41202 _ Diagnoses - main ICD10Uses data-coding 240\n",
      "\n",
      "Field ID: 41204 _ Diagnoses - secondary ICD10Uses data-coding 240\n",
      "\n",
      "Field ID: 41262 _ Date of first in-patient diagnosis - main ICD10\n",
      "\n",
      "Field ID: 41270 _ Diagnoses - ICD10Uses data-coding 259\n",
      "\n",
      "Field ID: 41280 _ Date of first in-patient diagnosis - ICD10\n",
      "\n"
     ]
    }
   ],
   "source": [
    "word='ICD10'\n",
    "ukb.search_description(word)"
   ]
  },
  {
   "cell_type": "code",
   "execution_count": 206,
   "metadata": {},
   "outputs": [
    {
     "data": {
      "text/plain": [
       "array(['I849', nan, 'J181', 'K429', 'E780', 'C504', 'H186', 'D683',\n",
       "       'A099', 'H024', 'I10', 'D237', 'N950', 'D170', 'N840', 'B949'],\n",
       "      dtype=object)"
      ]
     },
     "execution_count": 206,
     "metadata": {},
     "output_type": "execute_result"
    }
   ],
   "source": [
    "df.loc[0:20,\"41270-0.0\"].unique()"
   ]
  },
  {
   "cell_type": "code",
   "execution_count": 207,
   "metadata": {},
   "outputs": [
    {
     "name": "stdout",
     "output_type": "stream",
     "text": [
      "[8046, 5865041, 'Categorical (multiple)', 'Diagnoses - ICD10Uses data-coding 259', 0, 212]\n",
      "['Diagnoses - ICD10', 'Summary Diagnoses']\n"
     ]
    }
   ],
   "source": [
    "print(ukb._UID_to_dscrpt['41270'])\n",
    "print(ukb._fieldID_to_ctgry_dict['41270'])"
   ]
  },
  {
   "cell_type": "code",
   "execution_count": 208,
   "metadata": {},
   "outputs": [
    {
     "name": "stdout",
     "output_type": "stream",
     "text": [
      "From the category Summary Diagnoses the following where selected: \n",
      " \t {'41270'}\n",
      "\t FID 41270:  Diagnoses - ICD10Uses data-coding 259\n",
      "From the category Summary Diagnoses the following where selected: \n",
      " \t {'41280'}\n",
      "\t FID 41280:  Date of first in-patient diagnosis - ICD10\n",
      "From the category Reception the following where selected: \n",
      " \t {'53'}\n",
      "\t FID 53:  Date of attending assessment centre\n"
     ]
    }
   ],
   "source": [
    "selected_categories={'Summary Diagnoses':['include','41270']}\n",
    "process_config={'41270':{'type':'string'}}\n",
    "\n",
    "df_temp=preprocess(selected_categories,ukb.categories,ukb._UID_to_dscrpt,df,process_config)\n",
    "\n",
    "\n",
    "selected_categories={'Summary Diagnoses':['include','41280']}\n",
    "process_config={'41280':{'type':'string'}}\n",
    "df_temp_date=preprocess(selected_categories,ukb.categories,ukb._UID_to_dscrpt,df,process_config)\n",
    "\n",
    "selected_categories1={fieldID_to_ctgry_dict['53'][1]:['include','53']}\n",
    "process_config1={'53':{'type':'string'}}\n",
    "\n",
    "df_date_assessment=pd.to_datetime(preprocess(selected_categories1,ukb.categories,\n",
    "                                             ukb._UID_to_dscrpt,df,process_config1)['53-0.0'],format='%Y-%m-%d').to_frame()\n",
    "\n",
    "df_temp_date=df_temp_date.apply(pd.to_datetime)\n",
    "\n",
    "\n",
    "cols_dict={df_temp.columns.values[i]:df_temp_date.columns.values[i] for i in range(df_temp.shape[1])}\n",
    "df_temp.rename(columns=cols_dict,inplace=True)"
   ]
  },
  {
   "cell_type": "code",
   "execution_count": 209,
   "metadata": {},
   "outputs": [],
   "source": [
    "baseline_diagnoses=df_temp.where(df_temp_date.lt(df_date_assessment[\"53-0.0\"],axis=0))\n",
    "baseline_diagnoses_dates=df_temp_date.where(df_temp_date.lt(df_date_assessment[\"53-0.0\"],axis=0))"
   ]
  },
  {
   "cell_type": "code",
   "execution_count": 210,
   "metadata": {},
   "outputs": [],
   "source": [
    "baseline_diagnoses_sorted=pd.DataFrame(columns=baseline_diagnoses.columns, index=baseline_diagnoses.index)\n",
    "baseline_diagnoses_dates_sorted=pd.DataFrame(columns=baseline_diagnoses.columns, index=baseline_diagnoses.index)"
   ]
  },
  {
   "cell_type": "code",
   "execution_count": 211,
   "metadata": {},
   "outputs": [
    {
     "data": {
      "text/plain": [
       "Timestamp('2010-09-14 00:00:00')"
      ]
     },
     "execution_count": 211,
     "metadata": {},
     "output_type": "execute_result"
    }
   ],
   "source": [
    "baseline_diagnoses_dates.max().max()"
   ]
  },
  {
   "cell_type": "markdown",
   "metadata": {},
   "source": [
    "# This takes about 30 mins to run needs to be optimised\n",
    "\n",
    "# Doesn't actually sort, but it's find for now as I will be working with BoW"
   ]
  },
  {
   "cell_type": "code",
   "execution_count": 212,
   "metadata": {},
   "outputs": [
    {
     "name": "stdout",
     "output_type": "stream",
     "text": [
      "2262.580269098282\n"
     ]
    }
   ],
   "source": [
    "tic=time.time()\n",
    "for patient in baseline_diagnoses_dates.index:\n",
    "    indxs_sorted=baseline_diagnoses_dates.iloc[patient].values.argsort()\n",
    "    baseline_diagnoses_sorted.iloc[patient]=baseline_diagnoses.iloc[patient,indxs_sorted]\n",
    "    baseline_diagnoses_dates_sorted.iloc[patient]=baseline_diagnoses_dates.iloc[patient,indxs_sorted]\n",
    "\n",
    "toc=time.time()\n",
    "print(toc-tic)"
   ]
  },
  {
   "cell_type": "code",
   "execution_count": 213,
   "metadata": {},
   "outputs": [],
   "source": [
    "baseline_diagnoses_sorted.dropna(axis=1,how=\"all\",inplace=True)"
   ]
  },
  {
   "cell_type": "code",
   "execution_count": 214,
   "metadata": {},
   "outputs": [],
   "source": [
    "baseline_diagnoses_dates_sorted.dropna(axis=1,how=\"all\",inplace=True)"
   ]
  },
  {
   "cell_type": "code",
   "execution_count": 215,
   "metadata": {},
   "outputs": [
    {
     "data": {
      "text/html": [
       "<div>\n",
       "<style scoped>\n",
       "    .dataframe tbody tr th:only-of-type {\n",
       "        vertical-align: middle;\n",
       "    }\n",
       "\n",
       "    .dataframe tbody tr th {\n",
       "        vertical-align: top;\n",
       "    }\n",
       "\n",
       "    .dataframe thead th {\n",
       "        text-align: right;\n",
       "    }\n",
       "</style>\n",
       "<table border=\"1\" class=\"dataframe\">\n",
       "  <thead>\n",
       "    <tr style=\"text-align: right;\">\n",
       "      <th></th>\n",
       "      <th>41280-0.0</th>\n",
       "      <th>41280-0.1</th>\n",
       "      <th>41280-0.2</th>\n",
       "      <th>41280-0.3</th>\n",
       "      <th>41280-0.4</th>\n",
       "      <th>41280-0.5</th>\n",
       "      <th>41280-0.6</th>\n",
       "      <th>41280-0.7</th>\n",
       "      <th>41280-0.8</th>\n",
       "      <th>41280-0.9</th>\n",
       "      <th>...</th>\n",
       "      <th>41280-0.195</th>\n",
       "      <th>41280-0.196</th>\n",
       "      <th>41280-0.197</th>\n",
       "      <th>41280-0.198</th>\n",
       "      <th>41280-0.204</th>\n",
       "      <th>41280-0.205</th>\n",
       "      <th>41280-0.206</th>\n",
       "      <th>41280-0.208</th>\n",
       "      <th>41280-0.210</th>\n",
       "      <th>41280-0.211</th>\n",
       "    </tr>\n",
       "  </thead>\n",
       "  <tbody>\n",
       "    <tr>\n",
       "      <th>0</th>\n",
       "      <td>I849</td>\n",
       "      <td>&lt;NA&gt;</td>\n",
       "      <td>&lt;NA&gt;</td>\n",
       "      <td>K621</td>\n",
       "      <td>Z858</td>\n",
       "      <td>&lt;NA&gt;</td>\n",
       "      <td>&lt;NA&gt;</td>\n",
       "      <td>&lt;NA&gt;</td>\n",
       "      <td>&lt;NA&gt;</td>\n",
       "      <td>&lt;NA&gt;</td>\n",
       "      <td>...</td>\n",
       "      <td>&lt;NA&gt;</td>\n",
       "      <td>&lt;NA&gt;</td>\n",
       "      <td>&lt;NA&gt;</td>\n",
       "      <td>&lt;NA&gt;</td>\n",
       "      <td>&lt;NA&gt;</td>\n",
       "      <td>&lt;NA&gt;</td>\n",
       "      <td>&lt;NA&gt;</td>\n",
       "      <td>&lt;NA&gt;</td>\n",
       "      <td>&lt;NA&gt;</td>\n",
       "      <td>&lt;NA&gt;</td>\n",
       "    </tr>\n",
       "    <tr>\n",
       "      <th>1</th>\n",
       "      <td>&lt;NA&gt;</td>\n",
       "      <td>&lt;NA&gt;</td>\n",
       "      <td>&lt;NA&gt;</td>\n",
       "      <td>&lt;NA&gt;</td>\n",
       "      <td>&lt;NA&gt;</td>\n",
       "      <td>&lt;NA&gt;</td>\n",
       "      <td>&lt;NA&gt;</td>\n",
       "      <td>&lt;NA&gt;</td>\n",
       "      <td>&lt;NA&gt;</td>\n",
       "      <td>&lt;NA&gt;</td>\n",
       "      <td>...</td>\n",
       "      <td>&lt;NA&gt;</td>\n",
       "      <td>&lt;NA&gt;</td>\n",
       "      <td>&lt;NA&gt;</td>\n",
       "      <td>&lt;NA&gt;</td>\n",
       "      <td>&lt;NA&gt;</td>\n",
       "      <td>&lt;NA&gt;</td>\n",
       "      <td>&lt;NA&gt;</td>\n",
       "      <td>&lt;NA&gt;</td>\n",
       "      <td>&lt;NA&gt;</td>\n",
       "      <td>&lt;NA&gt;</td>\n",
       "    </tr>\n",
       "    <tr>\n",
       "      <th>2</th>\n",
       "      <td>&lt;NA&gt;</td>\n",
       "      <td>&lt;NA&gt;</td>\n",
       "      <td>&lt;NA&gt;</td>\n",
       "      <td>&lt;NA&gt;</td>\n",
       "      <td>N62</td>\n",
       "      <td>&lt;NA&gt;</td>\n",
       "      <td>R074</td>\n",
       "      <td>&lt;NA&gt;</td>\n",
       "      <td>&lt;NA&gt;</td>\n",
       "      <td>&lt;NA&gt;</td>\n",
       "      <td>...</td>\n",
       "      <td>&lt;NA&gt;</td>\n",
       "      <td>&lt;NA&gt;</td>\n",
       "      <td>&lt;NA&gt;</td>\n",
       "      <td>&lt;NA&gt;</td>\n",
       "      <td>&lt;NA&gt;</td>\n",
       "      <td>&lt;NA&gt;</td>\n",
       "      <td>&lt;NA&gt;</td>\n",
       "      <td>&lt;NA&gt;</td>\n",
       "      <td>&lt;NA&gt;</td>\n",
       "      <td>&lt;NA&gt;</td>\n",
       "    </tr>\n",
       "    <tr>\n",
       "      <th>3</th>\n",
       "      <td>&lt;NA&gt;</td>\n",
       "      <td>&lt;NA&gt;</td>\n",
       "      <td>&lt;NA&gt;</td>\n",
       "      <td>&lt;NA&gt;</td>\n",
       "      <td>&lt;NA&gt;</td>\n",
       "      <td>&lt;NA&gt;</td>\n",
       "      <td>&lt;NA&gt;</td>\n",
       "      <td>&lt;NA&gt;</td>\n",
       "      <td>&lt;NA&gt;</td>\n",
       "      <td>&lt;NA&gt;</td>\n",
       "      <td>...</td>\n",
       "      <td>&lt;NA&gt;</td>\n",
       "      <td>&lt;NA&gt;</td>\n",
       "      <td>&lt;NA&gt;</td>\n",
       "      <td>&lt;NA&gt;</td>\n",
       "      <td>&lt;NA&gt;</td>\n",
       "      <td>&lt;NA&gt;</td>\n",
       "      <td>&lt;NA&gt;</td>\n",
       "      <td>&lt;NA&gt;</td>\n",
       "      <td>&lt;NA&gt;</td>\n",
       "      <td>&lt;NA&gt;</td>\n",
       "    </tr>\n",
       "    <tr>\n",
       "      <th>4</th>\n",
       "      <td>&lt;NA&gt;</td>\n",
       "      <td>E785</td>\n",
       "      <td>G560</td>\n",
       "      <td>&lt;NA&gt;</td>\n",
       "      <td>I10</td>\n",
       "      <td>I269</td>\n",
       "      <td>M1099</td>\n",
       "      <td>M170</td>\n",
       "      <td>M171</td>\n",
       "      <td>M2332</td>\n",
       "      <td>...</td>\n",
       "      <td>&lt;NA&gt;</td>\n",
       "      <td>&lt;NA&gt;</td>\n",
       "      <td>&lt;NA&gt;</td>\n",
       "      <td>&lt;NA&gt;</td>\n",
       "      <td>&lt;NA&gt;</td>\n",
       "      <td>&lt;NA&gt;</td>\n",
       "      <td>&lt;NA&gt;</td>\n",
       "      <td>&lt;NA&gt;</td>\n",
       "      <td>&lt;NA&gt;</td>\n",
       "      <td>&lt;NA&gt;</td>\n",
       "    </tr>\n",
       "  </tbody>\n",
       "</table>\n",
       "<p>5 rows × 197 columns</p>\n",
       "</div>"
      ],
      "text/plain": [
       "  41280-0.0 41280-0.1 41280-0.2 41280-0.3 41280-0.4 41280-0.5 41280-0.6  \\\n",
       "0      I849      <NA>      <NA>      K621      Z858      <NA>      <NA>   \n",
       "1      <NA>      <NA>      <NA>      <NA>      <NA>      <NA>      <NA>   \n",
       "2      <NA>      <NA>      <NA>      <NA>       N62      <NA>      R074   \n",
       "3      <NA>      <NA>      <NA>      <NA>      <NA>      <NA>      <NA>   \n",
       "4      <NA>      E785      G560      <NA>       I10      I269     M1099   \n",
       "\n",
       "  41280-0.7 41280-0.8 41280-0.9  ... 41280-0.195 41280-0.196 41280-0.197  \\\n",
       "0      <NA>      <NA>      <NA>  ...        <NA>        <NA>        <NA>   \n",
       "1      <NA>      <NA>      <NA>  ...        <NA>        <NA>        <NA>   \n",
       "2      <NA>      <NA>      <NA>  ...        <NA>        <NA>        <NA>   \n",
       "3      <NA>      <NA>      <NA>  ...        <NA>        <NA>        <NA>   \n",
       "4      M170      M171     M2332  ...        <NA>        <NA>        <NA>   \n",
       "\n",
       "  41280-0.198 41280-0.204 41280-0.205 41280-0.206 41280-0.208 41280-0.210  \\\n",
       "0        <NA>        <NA>        <NA>        <NA>        <NA>        <NA>   \n",
       "1        <NA>        <NA>        <NA>        <NA>        <NA>        <NA>   \n",
       "2        <NA>        <NA>        <NA>        <NA>        <NA>        <NA>   \n",
       "3        <NA>        <NA>        <NA>        <NA>        <NA>        <NA>   \n",
       "4        <NA>        <NA>        <NA>        <NA>        <NA>        <NA>   \n",
       "\n",
       "  41280-0.211  \n",
       "0        <NA>  \n",
       "1        <NA>  \n",
       "2        <NA>  \n",
       "3        <NA>  \n",
       "4        <NA>  \n",
       "\n",
       "[5 rows x 197 columns]"
      ]
     },
     "execution_count": 215,
     "metadata": {},
     "output_type": "execute_result"
    }
   ],
   "source": [
    "baseline_diagnoses_sorted.head()"
   ]
  },
  {
   "cell_type": "code",
   "execution_count": 216,
   "metadata": {},
   "outputs": [],
   "source": [
    "def load_obj(name ):\n",
    "    with open('obj_' + name + '.pkl', 'rb') as f:\n",
    "        return pickle.load(f)\n",
    "#1. read the dict to map each entry to column\n",
    "entry_L3_to_column_dict=load_obj('ICD10_L3_simp_dict')\n",
    "entry_L3_to_column_dict_dyno=load_obj('ICD10_L3_dyno_dict')\n",
    "\n",
    "entry_L3_to_column_dict={k.replace(\".\",\"\"):v for k,v in entry_L3_to_column_dict.items()}"
   ]
  },
  {
   "cell_type": "code",
   "execution_count": 217,
   "metadata": {},
   "outputs": [],
   "source": [
    "entry_L2_to_column_dict=dict()\n",
    "for k,v in entry_L3_to_column_dict_dyno.items():\n",
    "    if v[\"jump_to\"]==\"level3\":\n",
    "         entry_L2_to_column_dict[v[\"level2_name\"]]=v[\"level2_desc\"]\n",
    "    elif v[\"jump_to\"] in [\"chapter\",\"level2\",\"level1\"]:\n",
    "           entry_L2_to_column_dict[v[\"level2_name\"]]=v[v[\"jump_to\"]+\"_desc\"]\n",
    "    else:\n",
    "        print(\"what?!?!?1\")"
   ]
  },
  {
   "cell_type": "code",
   "execution_count": 218,
   "metadata": {},
   "outputs": [],
   "source": [
    "#2. define the the tidy data format\n",
    "col_names=np.unique(list(entry_L3_to_column_dict.values()))#+disease_code_to_disease_dict_time\n",
    "#col_names_time=[col_name+'_time' for col_name in col_names]\n",
    "col_names_all=col_names#[*col_names, *col_names_time]\n",
    "df_tidy_temp=pd.DataFrame(index=baseline_diagnoses_sorted.index,columns=col_names_all)\n",
    "\n",
    "df_untidy_temp=baseline_diagnoses_sorted\n",
    "df_untidy_temp_time=baseline_diagnoses_dates_sorted"
   ]
  },
  {
   "cell_type": "code",
   "execution_count": 219,
   "metadata": {},
   "outputs": [
    {
     "data": {
      "text/html": [
       "<div>\n",
       "<style scoped>\n",
       "    .dataframe tbody tr th:only-of-type {\n",
       "        vertical-align: middle;\n",
       "    }\n",
       "\n",
       "    .dataframe tbody tr th {\n",
       "        vertical-align: top;\n",
       "    }\n",
       "\n",
       "    .dataframe thead th {\n",
       "        text-align: right;\n",
       "    }\n",
       "</style>\n",
       "<table border=\"1\" class=\"dataframe\">\n",
       "  <thead>\n",
       "    <tr style=\"text-align: right;\">\n",
       "      <th></th>\n",
       "      <th>A04 Other bacterial intestinal infections</th>\n",
       "      <th>A08 Viral and other specified intestinal infections</th>\n",
       "      <th>A09.9 Gastroenteritis and colitis of unspecified origin</th>\n",
       "      <th>A30-A49 Other bacterial diseases</th>\n",
       "      <th>A41.9 Septicaemia, unspecified</th>\n",
       "      <th>B00-B09 Viral infections characterized by skin and mucous membrane lesions</th>\n",
       "      <th>B34.9 Viral infection, unspecified</th>\n",
       "      <th>C00-C14 Malignant neoplasms of lip, oral cavity and pharynx</th>\n",
       "      <th>C15 Malignant neoplasm of oesophagus</th>\n",
       "      <th>C15-C26 Malignant neoplasms of digestive organs</th>\n",
       "      <th>...</th>\n",
       "      <th>Z43.2 Attention to ileostomy</th>\n",
       "      <th>Z45.0 Adjustment and management of cardiac pacemaker</th>\n",
       "      <th>Z45.2 Adjustment and management of vascular access device</th>\n",
       "      <th>Z45.8 Adjustment and management of other implanted devices</th>\n",
       "      <th>Z46.6 Fitting and adjustment of urinary device</th>\n",
       "      <th>Z47.0 Follow-up care involving removal of fracture plate and other internal fixation device</th>\n",
       "      <th>Z48 Other surgical follow-up care</th>\n",
       "      <th>Z53 Persons encountering health services for specifie procedures, not carried out</th>\n",
       "      <th>Z53.8 Procedure not carried out for other reasons</th>\n",
       "      <th>Z80-Z99 Persons with potential health hazards related to family and personal history and certain conditions influencing health status</th>\n",
       "    </tr>\n",
       "  </thead>\n",
       "  <tbody>\n",
       "    <tr>\n",
       "      <th>0</th>\n",
       "      <td>NaN</td>\n",
       "      <td>NaN</td>\n",
       "      <td>NaN</td>\n",
       "      <td>NaN</td>\n",
       "      <td>NaN</td>\n",
       "      <td>NaN</td>\n",
       "      <td>NaN</td>\n",
       "      <td>NaN</td>\n",
       "      <td>NaN</td>\n",
       "      <td>NaN</td>\n",
       "      <td>...</td>\n",
       "      <td>NaN</td>\n",
       "      <td>NaN</td>\n",
       "      <td>NaN</td>\n",
       "      <td>NaN</td>\n",
       "      <td>NaN</td>\n",
       "      <td>NaN</td>\n",
       "      <td>NaN</td>\n",
       "      <td>NaN</td>\n",
       "      <td>NaN</td>\n",
       "      <td>NaN</td>\n",
       "    </tr>\n",
       "    <tr>\n",
       "      <th>1</th>\n",
       "      <td>NaN</td>\n",
       "      <td>NaN</td>\n",
       "      <td>NaN</td>\n",
       "      <td>NaN</td>\n",
       "      <td>NaN</td>\n",
       "      <td>NaN</td>\n",
       "      <td>NaN</td>\n",
       "      <td>NaN</td>\n",
       "      <td>NaN</td>\n",
       "      <td>NaN</td>\n",
       "      <td>...</td>\n",
       "      <td>NaN</td>\n",
       "      <td>NaN</td>\n",
       "      <td>NaN</td>\n",
       "      <td>NaN</td>\n",
       "      <td>NaN</td>\n",
       "      <td>NaN</td>\n",
       "      <td>NaN</td>\n",
       "      <td>NaN</td>\n",
       "      <td>NaN</td>\n",
       "      <td>NaN</td>\n",
       "    </tr>\n",
       "    <tr>\n",
       "      <th>2</th>\n",
       "      <td>NaN</td>\n",
       "      <td>NaN</td>\n",
       "      <td>NaN</td>\n",
       "      <td>NaN</td>\n",
       "      <td>NaN</td>\n",
       "      <td>NaN</td>\n",
       "      <td>NaN</td>\n",
       "      <td>NaN</td>\n",
       "      <td>NaN</td>\n",
       "      <td>NaN</td>\n",
       "      <td>...</td>\n",
       "      <td>NaN</td>\n",
       "      <td>NaN</td>\n",
       "      <td>NaN</td>\n",
       "      <td>NaN</td>\n",
       "      <td>NaN</td>\n",
       "      <td>NaN</td>\n",
       "      <td>NaN</td>\n",
       "      <td>NaN</td>\n",
       "      <td>NaN</td>\n",
       "      <td>NaN</td>\n",
       "    </tr>\n",
       "    <tr>\n",
       "      <th>3</th>\n",
       "      <td>NaN</td>\n",
       "      <td>NaN</td>\n",
       "      <td>NaN</td>\n",
       "      <td>NaN</td>\n",
       "      <td>NaN</td>\n",
       "      <td>NaN</td>\n",
       "      <td>NaN</td>\n",
       "      <td>NaN</td>\n",
       "      <td>NaN</td>\n",
       "      <td>NaN</td>\n",
       "      <td>...</td>\n",
       "      <td>NaN</td>\n",
       "      <td>NaN</td>\n",
       "      <td>NaN</td>\n",
       "      <td>NaN</td>\n",
       "      <td>NaN</td>\n",
       "      <td>NaN</td>\n",
       "      <td>NaN</td>\n",
       "      <td>NaN</td>\n",
       "      <td>NaN</td>\n",
       "      <td>NaN</td>\n",
       "    </tr>\n",
       "    <tr>\n",
       "      <th>4</th>\n",
       "      <td>NaN</td>\n",
       "      <td>NaN</td>\n",
       "      <td>NaN</td>\n",
       "      <td>NaN</td>\n",
       "      <td>NaN</td>\n",
       "      <td>NaN</td>\n",
       "      <td>NaN</td>\n",
       "      <td>NaN</td>\n",
       "      <td>NaN</td>\n",
       "      <td>NaN</td>\n",
       "      <td>...</td>\n",
       "      <td>NaN</td>\n",
       "      <td>NaN</td>\n",
       "      <td>NaN</td>\n",
       "      <td>NaN</td>\n",
       "      <td>NaN</td>\n",
       "      <td>NaN</td>\n",
       "      <td>NaN</td>\n",
       "      <td>NaN</td>\n",
       "      <td>NaN</td>\n",
       "      <td>NaN</td>\n",
       "    </tr>\n",
       "  </tbody>\n",
       "</table>\n",
       "<p>5 rows × 589 columns</p>\n",
       "</div>"
      ],
      "text/plain": [
       "  A04 Other bacterial intestinal infections  \\\n",
       "0                                       NaN   \n",
       "1                                       NaN   \n",
       "2                                       NaN   \n",
       "3                                       NaN   \n",
       "4                                       NaN   \n",
       "\n",
       "  A08 Viral and other specified intestinal infections  \\\n",
       "0                                                NaN    \n",
       "1                                                NaN    \n",
       "2                                                NaN    \n",
       "3                                                NaN    \n",
       "4                                                NaN    \n",
       "\n",
       "  A09.9 Gastroenteritis and colitis of unspecified origin  \\\n",
       "0                                                NaN        \n",
       "1                                                NaN        \n",
       "2                                                NaN        \n",
       "3                                                NaN        \n",
       "4                                                NaN        \n",
       "\n",
       "  A30-A49 Other bacterial diseases A41.9 Septicaemia, unspecified  \\\n",
       "0                              NaN                            NaN   \n",
       "1                              NaN                            NaN   \n",
       "2                              NaN                            NaN   \n",
       "3                              NaN                            NaN   \n",
       "4                              NaN                            NaN   \n",
       "\n",
       "  B00-B09 Viral infections characterized by skin and mucous membrane lesions  \\\n",
       "0                                                NaN                           \n",
       "1                                                NaN                           \n",
       "2                                                NaN                           \n",
       "3                                                NaN                           \n",
       "4                                                NaN                           \n",
       "\n",
       "  B34.9 Viral infection, unspecified  \\\n",
       "0                                NaN   \n",
       "1                                NaN   \n",
       "2                                NaN   \n",
       "3                                NaN   \n",
       "4                                NaN   \n",
       "\n",
       "  C00-C14 Malignant neoplasms of lip, oral cavity and pharynx  \\\n",
       "0                                                NaN            \n",
       "1                                                NaN            \n",
       "2                                                NaN            \n",
       "3                                                NaN            \n",
       "4                                                NaN            \n",
       "\n",
       "  C15 Malignant neoplasm of oesophagus  \\\n",
       "0                                  NaN   \n",
       "1                                  NaN   \n",
       "2                                  NaN   \n",
       "3                                  NaN   \n",
       "4                                  NaN   \n",
       "\n",
       "  C15-C26 Malignant neoplasms of digestive organs  ...  \\\n",
       "0                                             NaN  ...   \n",
       "1                                             NaN  ...   \n",
       "2                                             NaN  ...   \n",
       "3                                             NaN  ...   \n",
       "4                                             NaN  ...   \n",
       "\n",
       "  Z43.2 Attention to ileostomy  \\\n",
       "0                          NaN   \n",
       "1                          NaN   \n",
       "2                          NaN   \n",
       "3                          NaN   \n",
       "4                          NaN   \n",
       "\n",
       "  Z45.0 Adjustment and management of cardiac pacemaker  \\\n",
       "0                                                NaN     \n",
       "1                                                NaN     \n",
       "2                                                NaN     \n",
       "3                                                NaN     \n",
       "4                                                NaN     \n",
       "\n",
       "  Z45.2 Adjustment and management of vascular access device  \\\n",
       "0                                                NaN          \n",
       "1                                                NaN          \n",
       "2                                                NaN          \n",
       "3                                                NaN          \n",
       "4                                                NaN          \n",
       "\n",
       "  Z45.8 Adjustment and management of other implanted devices  \\\n",
       "0                                                NaN           \n",
       "1                                                NaN           \n",
       "2                                                NaN           \n",
       "3                                                NaN           \n",
       "4                                                NaN           \n",
       "\n",
       "  Z46.6 Fitting and adjustment of urinary device  \\\n",
       "0                                            NaN   \n",
       "1                                            NaN   \n",
       "2                                            NaN   \n",
       "3                                            NaN   \n",
       "4                                            NaN   \n",
       "\n",
       "  Z47.0 Follow-up care involving removal of fracture plate and other internal fixation device  \\\n",
       "0                                                NaN                                            \n",
       "1                                                NaN                                            \n",
       "2                                                NaN                                            \n",
       "3                                                NaN                                            \n",
       "4                                                NaN                                            \n",
       "\n",
       "  Z48 Other surgical follow-up care  \\\n",
       "0                               NaN   \n",
       "1                               NaN   \n",
       "2                               NaN   \n",
       "3                               NaN   \n",
       "4                               NaN   \n",
       "\n",
       "  Z53 Persons encountering health services for specifie procedures, not carried out  \\\n",
       "0                                                NaN                                  \n",
       "1                                                NaN                                  \n",
       "2                                                NaN                                  \n",
       "3                                                NaN                                  \n",
       "4                                                NaN                                  \n",
       "\n",
       "  Z53.8 Procedure not carried out for other reasons  \\\n",
       "0                                               NaN   \n",
       "1                                               NaN   \n",
       "2                                               NaN   \n",
       "3                                               NaN   \n",
       "4                                               NaN   \n",
       "\n",
       "  Z80-Z99 Persons with potential health hazards related to family and personal history and certain conditions influencing health status  \n",
       "0                                                NaN                                                                                     \n",
       "1                                                NaN                                                                                     \n",
       "2                                                NaN                                                                                     \n",
       "3                                                NaN                                                                                     \n",
       "4                                                NaN                                                                                     \n",
       "\n",
       "[5 rows x 589 columns]"
      ]
     },
     "execution_count": 219,
     "metadata": {},
     "output_type": "execute_result"
    }
   ],
   "source": [
    "df_tidy_temp.head()"
   ]
  },
  {
   "cell_type": "markdown",
   "metadata": {},
   "source": [
    "# This also takes around 3 hours, probably can be optimised\n",
    "1. perhaps if I change the datatype from datetime\n",
    "2. perhaps if I cut some of the unnecessary try excepts which I can count how many times they are activated"
   ]
  },
  {
   "cell_type": "code",
   "execution_count": null,
   "metadata": {
    "tags": []
   },
   "outputs": [
    {
     "name": "stdout",
     "output_type": "stream",
     "text": [
      "0\n",
      "0.0012657642364501953\n",
      "10000\n",
      "208.28528761863708\n",
      "20000\n",
      "417.50253653526306\n",
      "30000\n",
      "627.7799670696259\n",
      "40000\n",
      "840.1352272033691\n",
      "50000\n",
      "1043.533392906189\n",
      "60000\n",
      "1250.27281665802\n",
      "70000\n",
      "1454.6214137077332\n",
      "80000\n",
      "1659.77791762352\n",
      "90000\n",
      "1869.9511225223541\n",
      "100000\n",
      "2077.3021228313446\n",
      "110000\n",
      "2287.2278294563293\n",
      "120000\n",
      "2498.56409907341\n",
      "130000\n",
      "2699.572174310684\n",
      "140000\n",
      "2899.488252401352\n",
      "150000\n",
      "3106.022352218628\n",
      "160000\n",
      "3313.6898186206818\n",
      "170000\n",
      "3514.4289247989655\n",
      "180000\n",
      "3726.519650220871\n",
      "190000\n",
      "3933.8888869285583\n",
      "200000\n",
      "4138.238597869873\n",
      "210000\n",
      "4346.353989124298\n",
      "220000\n",
      "4555.776926755905\n",
      "230000\n",
      "4764.032240629196\n",
      "240000\n",
      "4970.964054107666\n",
      "250000\n",
      "5177.690267562866\n",
      "260000\n",
      "5385.089805841446\n",
      "270000\n",
      "5588.521295785904\n",
      "280000\n",
      "5796.098433971405\n",
      "290000\n",
      "6003.397251605988\n",
      "300000\n",
      "6210.420321464539\n",
      "310000\n",
      "6418.598404169083\n",
      "320000\n",
      "6625.512753725052\n",
      "330000\n",
      "6829.2003610134125\n",
      "340000\n",
      "7034.002634763718\n",
      "350000\n",
      "7246.65044426918\n",
      "360000\n",
      "7450.038424015045\n"
     ]
    }
   ],
   "source": [
    "tic=time.time()\n",
    "for patientID in df_untidy_temp.index:\n",
    "    if patientID%10000==0:\n",
    "        print(patientID)\n",
    "        toc=time.time()\n",
    "        print(toc-tic)\n",
    "    recorded_disease_indxs=df_untidy_temp.columns[df_untidy_temp.iloc[patientID].notnull()]\n",
    "    for disease_indx in recorded_disease_indxs:\n",
    "        entry=df_untidy_temp.loc[patientID,disease_indx]\n",
    "        try:\n",
    "            df_tidy_temp.loc[patientID,entry_L3_to_column_dict[entry]]=df_untidy_temp_time.loc[patientID,'41280-'+disease_indx.split('-')[1]]\n",
    "        except:\n",
    "            try:\n",
    "                df_tidy_temp.loc[patientID,entry_L2_to_column_dict[entry]]=df_untidy_temp_time.loc[patientID,'41280-'+disease_indx.split('-')[1]]\n",
    "            except:\n",
    "                try:\n",
    "                    df_tidy_temp.loc[patientID,entry_L3_to_column_dict[entry[:-1]]]=df_untidy_temp_time.loc[patientID,'41280-'+disease_indx.split('-')[1]]\n",
    "                except:\n",
    "                    try:\n",
    "                        df_tidy_temp.loc[patientID,entry_L2_to_column_dict[entry[:-1]]]=df_untidy_temp_time.loc[patientID,'41280-'+disease_indx.split('-')[1]]\n",
    "                    except:\n",
    "                        try:\n",
    "                            df_tidy_temp.loc[patientID,entry_L2_to_column_dict[entry[:-2]]]=df_untidy_temp_time.loc[patientID,'41280-'+disease_indx.split('-')[1]]\n",
    "                        except:\n",
    "                            pass\n",
    "                            #print(\"error\",patientID,entry)\n",
    "                            #print(\"Should it happen?1\")\n",
    "\n",
    "toc=time.time()\n",
    "print(toc-tic)"
   ]
  },
  {
   "cell_type": "code",
   "execution_count": null,
   "metadata": {},
   "outputs": [],
   "source": [
    "selected_categories_tidy_temp={'Summary Diagnoses':['41270']}\n",
    "selected_categories_tidy_columns_temp={'41270':{\"col_name\":df_tidy_temp.columns.values,\"type\":\"date\"}}\n",
    "df_tidy_temp.to_csv(r'tidy_data_tiles/summary_diagnoses.csv')"
   ]
  },
  {
   "cell_type": "code",
   "execution_count": null,
   "metadata": {},
   "outputs": [],
   "source": [
    "selected_categories_tidy={**selected_categories_tidy,**selected_categories_tidy_temp}\n",
    "selected_categories_tidy_columns={**selected_categories_tidy_columns,**selected_categories_tidy_columns_temp}"
   ]
  },
  {
   "cell_type": "markdown",
   "metadata": {},
   "source": [
    "# QRISK3\n",
    "I have Age, sex, ethinicity, townedn deprivation indedx, smoking\n",
    "I need,\n",
    "1. diabetes, \n",
    "\n",
    "3.\n",
    "\n",
    "Won't have:\n",
    "1. angina or heart attach in a 1st degree<60 *"
   ]
  },
  {
   "cell_type": "markdown",
   "metadata": {},
   "source": [
    "## 1. diabetes"
   ]
  },
  {
   "cell_type": "code",
   "execution_count": null,
   "metadata": {},
   "outputs": [],
   "source": [
    "\n",
    "#find all who have a diagnoses\n",
    "indxs_diag_T1=df_untidy_temp.loc[df_untidy_temp.apply(lambda col:col.str.contains('E10',na=False)).sum(axis=1)>0].index\n",
    "indxs_diag_T2=df_untidy_temp.loc[df_untidy_temp.apply(lambda col:col.str.contains('E11',na=False)).sum(axis=1)>0].index"
   ]
  },
  {
   "cell_type": "code",
   "execution_count": null,
   "metadata": {},
   "outputs": [],
   "source": [
    "print(\"T1: {T1:.0f} \\n T2:{T2:.0f}\".format(T1=len(indxs_diag_T1),T2=len(indxs_diag_T2)))"
   ]
  },
  {
   "cell_type": "code",
   "execution_count": null,
   "metadata": {},
   "outputs": [],
   "source": [
    "disease_sr=\"diabetes_2\"\n",
    "indxs_diag=indxs_diag_T2\n",
    "\n",
    "indxs_selfreported=qrisk_df[qrisk_df[disease_sr]==1].index"
   ]
  },
  {
   "cell_type": "code",
   "execution_count": null,
   "metadata": {},
   "outputs": [],
   "source": [
    "\n",
    "in_both=len(set(indxs_selfreported).intersection(set(indxs_diag)))\n",
    "\n",
    "print('self reported: {number_of_selfreported:.0f} \\n \\\n",
    "diagnosed: {number_of_diagnosed:.0f} \\n \\\n",
    "only in self reported: {only_in_sr:.0f} \\n \\\n",
    "only in diagnosed: {only_in_d:.0f} \\n \\\n",
    "in both: {in_both}'.format(number_of_selfreported=len(indxs_selfreported),\n",
    "                           number_of_diagnosed=len(indxs_diag),\n",
    "                           only_in_sr=len(indxs_selfreported)-in_both,\n",
    "                           only_in_d=len(indxs_diag)-in_both,\n",
    "                           in_both=in_both))\n"
   ]
  },
  {
   "cell_type": "code",
   "execution_count": null,
   "metadata": {},
   "outputs": [],
   "source": [
    "qrisk_df.loc[indxs_diag_T1,\"diabetes_1\"]=1\n",
    "qrisk_df.loc[indxs_diag_T2,\"diabetes_2\"]=1"
   ]
  },
  {
   "cell_type": "markdown",
   "metadata": {},
   "source": [
    "##  2. CKD (3,4,5)"
   ]
  },
  {
   "cell_type": "code",
   "execution_count": null,
   "metadata": {},
   "outputs": [],
   "source": [
    "indxs_diag=df_untidy_temp.loc[df_untidy_temp.apply(lambda col:col.str.contains('N18',na=False)).sum(axis=1)>0].index\n",
    "print(\"num: {num:.0f}\".format(num=len(indxs_diag)))"
   ]
  },
  {
   "cell_type": "code",
   "execution_count": null,
   "metadata": {},
   "outputs": [],
   "source": [
    "XXX=df_untidy_temp.iloc[indxs_diag]\n",
    "pd.unique(XXX.iloc[0])"
   ]
  },
  {
   "cell_type": "code",
   "execution_count": null,
   "metadata": {},
   "outputs": [],
   "source": [
    "qrisk_df.loc[indxs_diag,\"CKD\"]=1"
   ]
  },
  {
   "cell_type": "markdown",
   "metadata": {},
   "source": [
    "## 3. Atrial Fibrilation"
   ]
  },
  {
   "cell_type": "code",
   "execution_count": null,
   "metadata": {},
   "outputs": [],
   "source": [
    "indxs_diag=df_untidy_temp.loc[df_untidy_temp.apply(lambda col:col.str.contains('I48',na=False)).sum(axis=1)>0].index\n",
    "print(\"num: {num:.0f}\".format(num=len(indxs_diag)))"
   ]
  },
  {
   "cell_type": "code",
   "execution_count": null,
   "metadata": {},
   "outputs": [],
   "source": [
    "qrisk_df.loc[indxs_diag,\"AF\"]=1"
   ]
  },
  {
   "cell_type": "markdown",
   "metadata": {},
   "source": [
    "## 4. Migraine"
   ]
  },
  {
   "cell_type": "code",
   "execution_count": null,
   "metadata": {},
   "outputs": [],
   "source": [
    "indxs_diag=df_untidy_temp.loc[df_untidy_temp.apply(lambda col:col.str.contains('G43',na=False)).sum(axis=1)>0].index\n",
    "print(\"num: {num:.0f}\".format(num=len(indxs_diag)))"
   ]
  },
  {
   "cell_type": "code",
   "execution_count": null,
   "metadata": {},
   "outputs": [],
   "source": [
    "qrisk_df.loc[indxs_diag,\"Migraine\"]=1"
   ]
  },
  {
   "cell_type": "code",
   "execution_count": null,
   "metadata": {},
   "outputs": [],
   "source": [
    "qrisk_df.head()"
   ]
  },
  {
   "cell_type": "markdown",
   "metadata": {},
   "source": [
    "## 5. Rheumatoid arthritis"
   ]
  },
  {
   "cell_type": "code",
   "execution_count": null,
   "metadata": {},
   "outputs": [],
   "source": [
    "indxs_diag=df_untidy_temp.loc[df_untidy_temp.apply(lambda col:col.str.contains('J990|M05|M06',na=False)).sum(axis=1)>0].index"
   ]
  },
  {
   "cell_type": "code",
   "execution_count": null,
   "metadata": {},
   "outputs": [],
   "source": [
    "disease_sr=\"Rheumatoid arthritis\"\n",
    "indxs_selfreported=qrisk_df[qrisk_df[disease_sr]==1].index\n",
    "\n",
    "\n",
    "in_both=len(set(indxs_selfreported).intersection(set(indxs_diag)))\n",
    "\n",
    "print('self reported: {number_of_selfreported:.0f} \\n \\\n",
    "diagnosed: {number_of_diagnosed:.0f} \\n \\\n",
    "only in self reported: {only_in_sr:.0f} \\n \\\n",
    "only in diagnosed: {only_in_d:.0f} \\n \\\n",
    "in both: {in_both}'.format(number_of_selfreported=len(indxs_selfreported),\n",
    "                           number_of_diagnosed=len(indxs_diag),\n",
    "                           only_in_sr=len(indxs_selfreported)-in_both,\n",
    "                           only_in_d=len(indxs_diag)-in_both,\n",
    "                           in_both=in_both))\n"
   ]
  },
  {
   "cell_type": "code",
   "execution_count": null,
   "metadata": {},
   "outputs": [],
   "source": [
    "qrisk_df.loc[indxs_diag,\"Rheumatoid arthritis\"]=1"
   ]
  },
  {
   "cell_type": "markdown",
   "metadata": {},
   "source": [
    "## 6.  systemic lupus erythematosis/sle"
   ]
  },
  {
   "cell_type": "code",
   "execution_count": null,
   "metadata": {},
   "outputs": [],
   "source": [
    "indxs_diag=df_untidy_temp.loc[df_untidy_temp.apply(lambda col:col.str.contains('M32',na=False)).sum(axis=1)>0].index"
   ]
  },
  {
   "cell_type": "code",
   "execution_count": null,
   "metadata": {},
   "outputs": [],
   "source": [
    "disease_sr=\"SLE\"\n",
    "indxs_selfreported=qrisk_df[qrisk_df[disease_sr]==1].index\n",
    "\n",
    "\n",
    "in_both=len(set(indxs_selfreported).intersection(set(indxs_diag)))\n",
    "\n",
    "print('self reported: {number_of_selfreported:.0f} \\n \\\n",
    "diagnosed: {number_of_diagnosed:.0f} \\n \\\n",
    "only in self reported: {only_in_sr:.0f} \\n \\\n",
    "only in diagnosed: {only_in_d:.0f} \\n \\\n",
    "in both: {in_both}'.format(number_of_selfreported=len(indxs_selfreported),\n",
    "                           number_of_diagnosed=len(indxs_diag),\n",
    "                           only_in_sr=len(indxs_selfreported)-in_both,\n",
    "                           only_in_d=len(indxs_diag)-in_both,\n",
    "                           in_both=in_both))\n"
   ]
  },
  {
   "cell_type": "code",
   "execution_count": null,
   "metadata": {},
   "outputs": [],
   "source": [
    "qrisk_df.loc[indxs_diag,\"SLE\"]=1"
   ]
  },
  {
   "cell_type": "markdown",
   "metadata": {},
   "source": [
    "## 7. Severe Mental Illness including psychosis, schizophrenia, or bipolar affective disease"
   ]
  },
  {
   "cell_type": "code",
   "execution_count": null,
   "metadata": {},
   "outputs": [],
   "source": [
    "indxs_diag=df_untidy_temp.loc[df_untidy_temp.apply(lambda col:col.str.contains('F2|F30|F31|F32|F33',na=False)).sum(axis=1)>0].index"
   ]
  },
  {
   "cell_type": "code",
   "execution_count": null,
   "metadata": {},
   "outputs": [],
   "source": [
    "len(indxs_diag)"
   ]
  },
  {
   "cell_type": "code",
   "execution_count": null,
   "metadata": {},
   "outputs": [],
   "source": [
    "disease_sr=\"severe_mental\"\n",
    "indxs_selfreported=qrisk_df[qrisk_df[disease_sr]==1].index\n",
    "\n",
    "\n",
    "in_both=len(set(indxs_selfreported).intersection(set(indxs_diag)))\n",
    "\n",
    "print('self reported: {number_of_selfreported:.0f} \\n \\\n",
    "diagnosed: {number_of_diagnosed:.0f} \\n \\\n",
    "only in self reported: {only_in_sr:.0f} \\n \\\n",
    "only in diagnosed: {only_in_d:.0f} \\n \\\n",
    "in both: {in_both}'.format(number_of_selfreported=len(indxs_selfreported),\n",
    "                           number_of_diagnosed=len(indxs_diag),\n",
    "                           only_in_sr=len(indxs_selfreported)-in_both,\n",
    "                           only_in_d=len(indxs_diag)-in_both,\n",
    "                           in_both=in_both))\n"
   ]
  },
  {
   "cell_type": "code",
   "execution_count": null,
   "metadata": {},
   "outputs": [],
   "source": [
    "qrisk_df.loc[indxs_diag,\"severe_mental\"]=1"
   ]
  },
  {
   "cell_type": "markdown",
   "metadata": {},
   "source": [
    "## 8.Erectile disfunction  "
   ]
  },
  {
   "cell_type": "code",
   "execution_count": null,
   "metadata": {},
   "outputs": [],
   "source": [
    "indxs_diag=df_untidy_temp.loc[df_untidy_temp.apply(lambda col:col.str.contains('F522|N484',na=False)).sum(axis=1)>0].index"
   ]
  },
  {
   "cell_type": "code",
   "execution_count": null,
   "metadata": {},
   "outputs": [],
   "source": [
    "len(indxs_diag)"
   ]
  },
  {
   "cell_type": "code",
   "execution_count": null,
   "metadata": {},
   "outputs": [],
   "source": [
    "disease_sr=\"erectile_dysfunction\"\n",
    "indxs_selfreported=qrisk_df[qrisk_df[disease_sr]==1].index\n",
    "\n",
    "\n",
    "in_both=len(set(indxs_selfreported).intersection(set(indxs_diag)))\n",
    "\n",
    "print('self reported: {number_of_selfreported:.0f} \\n \\\n",
    "diagnosed: {number_of_diagnosed:.0f} \\n \\\n",
    "only in self reported: {only_in_sr:.0f} \\n \\\n",
    "only in diagnosed: {only_in_d:.0f} \\n \\\n",
    "in both: {in_both}'.format(number_of_selfreported=len(indxs_selfreported),\n",
    "                           number_of_diagnosed=len(indxs_diag),\n",
    "                           only_in_sr=len(indxs_selfreported)-in_both,\n",
    "                           only_in_d=len(indxs_diag)-in_both,\n",
    "                           in_both=in_both))\n"
   ]
  },
  {
   "cell_type": "code",
   "execution_count": null,
   "metadata": {},
   "outputs": [],
   "source": [
    "qrisk_df.loc[indxs_diag,\"erectile_dysfunction\"]=1"
   ]
  },
  {
   "cell_type": "code",
   "execution_count": null,
   "metadata": {},
   "outputs": [],
   "source": [
    "qrisk_df.sum()"
   ]
  },
  {
   "cell_type": "code",
   "execution_count": null,
   "metadata": {},
   "outputs": [],
   "source": [
    "qrisk_df.to_csv(r'tidy_data_tiles/qrisk.csv')"
   ]
  },
  {
   "cell_type": "code",
   "execution_count": null,
   "metadata": {},
   "outputs": [],
   "source": [
    "import pickle\n",
    "def save_obj(obj, name ):\n",
    "    with open('obj_'+ name + '.pkl', 'wb') as f:\n",
    "        pickle.dump(obj, f, pickle.HIGHEST_PROTOCOL)\n",
    "save_obj(selected_categories_tidy,'selected_categories_tidy')\n",
    "save_obj(selected_categories_tidy_columns,'selected_categories_tidy_columns')\n",
    "save_obj(selected_categories_exclusions,'selected_categories_exclusions')"
   ]
  }
 ],
 "metadata": {
  "kernelspec": {
   "display_name": "Python 3",
   "language": "python",
   "name": "python3"
  },
  "language_info": {
   "codemirror_mode": {
    "name": "ipython",
    "version": 3
   },
   "file_extension": ".py",
   "mimetype": "text/x-python",
   "name": "python",
   "nbconvert_exporter": "python",
   "pygments_lexer": "ipython3",
   "version": "3.8.3"
  }
 },
 "nbformat": 4,
 "nbformat_minor": 4
}
